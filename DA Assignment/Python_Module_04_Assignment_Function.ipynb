{
 "cells": [
  {
   "cell_type": "markdown",
   "id": "32c79f3e",
   "metadata": {},
   "source": [
    "### **Q1:** What is the difference between a function and a method in Python?\n",
    "A function is a block of code that performs a specific task and can be called independently. A method is a function that is associated with an object (usually called via an instance of a class). Methods always take 'self' as their first argument."
   ]
  },
  {
   "cell_type": "code",
   "execution_count": 1,
   "id": "e5905eff",
   "metadata": {},
   "outputs": [
    {
     "name": "stdout",
     "output_type": "stream",
     "text": [
      "Hello, Sharan\n",
      "Hello\n"
     ]
    }
   ],
   "source": [
    "# Function\n",
    "def greet(name):\n",
    "    return f'Hello, {name}'\n",
    "print(greet('Sharan'))  # Function call\n",
    "# Method\n",
    "class Person:\n",
    "    def say_hello(self):\n",
    "        return 'Hello'\n",
    "p = Person()\n",
    "print(p.say_hello())  # Method call"
   ]
  },
  {
   "cell_type": "markdown",
   "id": "a9cad772",
   "metadata": {},
   "source": [
    "### **Q2:** Explain the concept of function arguments and parameters in Python.\n",
    "Parameters are variables defined in the function definition. Arguments are actual values passed to the function when called."
   ]
  },
  {
   "cell_type": "code",
   "execution_count": 2,
   "id": "1d385f8d",
   "metadata": {},
   "outputs": [],
   "source": [
    "def add(a, b):  # a and b are parameters\n",
    "    return a + b\n",
    "result = add(3, 5)  # 3 and 5 are arguments"
   ]
  },
  {
   "cell_type": "markdown",
   "id": "256fd327",
   "metadata": {},
   "source": [
    "### **Q3:** What are the different ways to define and call a function in Python?\n",
    "Functions can be defined using 'def' or 'lambda'. They can be called by their name followed by parentheses and required arguments."
   ]
  },
  {
   "cell_type": "code",
   "execution_count": 3,
   "id": "6817a952",
   "metadata": {},
   "outputs": [
    {
     "name": "stdout",
     "output_type": "stream",
     "text": [
      "16\n",
      "7\n"
     ]
    }
   ],
   "source": [
    "def square(x):\n",
    "    return x * x\n",
    "print(square(4))\n",
    "add = lambda a, b: a + b\n",
    "print(add(3, 4))"
   ]
  },
  {
   "cell_type": "markdown",
   "id": "cba6fdde",
   "metadata": {},
   "source": [
    "### **Q4:**  What is the purpose of the `return` statement in a Python function?\n",
    "The 'return' statement terminates the function and optionally passes back a value to the caller."
   ]
  },
  {
   "cell_type": "code",
   "execution_count": 4,
   "id": "a9c40fbc",
   "metadata": {},
   "outputs": [
    {
     "name": "stdout",
     "output_type": "stream",
     "text": [
      "12\n"
     ]
    }
   ],
   "source": [
    "def multiply(a, b):\n",
    "    return a * b\n",
    "result = multiply(2, 6)\n",
    "print(result)"
   ]
  },
  {
   "cell_type": "markdown",
   "id": "08bc9919",
   "metadata": {},
   "source": [
    "### **Q5:** What are iterators in Python and how do they differ from iterables?\n",
    "An iterator implements the iter() and next() methods and produces items one at a time. An iterable is any object that can return an iterator (e.g., list, tuple)."
   ]
  },
  {
   "cell_type": "code",
   "execution_count": 5,
   "id": "34221834",
   "metadata": {},
   "outputs": [
    {
     "name": "stdout",
     "output_type": "stream",
     "text": [
      "1\n"
     ]
    }
   ],
   "source": [
    "mylist = [1, 2, 3]\n",
    "iterator = iter(mylist)\n",
    "print(next(iterator)) "
   ]
  },
  {
   "cell_type": "markdown",
   "id": "305a05b3",
   "metadata": {},
   "source": [
    "### **Q6:** Explain the concept of generators in Python and how they are defined.\n",
    "Generators are a special kind of function that yield items one at a time using 'yield'. They produce items lazily and save memory."
   ]
  },
  {
   "cell_type": "code",
   "execution_count": 6,
   "id": "d1a5a7b2",
   "metadata": {},
   "outputs": [
    {
     "name": "stdout",
     "output_type": "stream",
     "text": [
      "3\n",
      "2\n",
      "1\n"
     ]
    }
   ],
   "source": [
    "def countdown(n):\n",
    "    while n > 0:\n",
    "        yield n\n",
    "        n -= 1\n",
    "for number in countdown(3):\n",
    "    print(number)"
   ]
  },
  {
   "cell_type": "markdown",
   "id": "ca1ba623",
   "metadata": {},
   "source": [
    "### **Q7:** What are the advantages of using generators over regular functions?\n",
    "Generators use less memory, work with large data, and compute values on the fly, making them efficient for big data or infinite sequences."
   ]
  },
  {
   "cell_type": "code",
   "execution_count": 7,
   "id": "2ef42a38",
   "metadata": {},
   "outputs": [
    {
     "name": "stdout",
     "output_type": "stream",
     "text": [
      "0\n",
      "1\n"
     ]
    }
   ],
   "source": [
    "def gen():\n",
    "    for i in range(1000000):\n",
    "        yield i\n",
    "g = gen()\n",
    "print(next(g))\n",
    "print(next(g))"
   ]
  },
  {
   "cell_type": "markdown",
   "id": "48862c84",
   "metadata": {},
   "source": [
    "### **Q8:** What is a lambda function in Python and when is it typically used?\n",
    "A lambda function is an anonymous, single-expression function. Used for short, simple functions, especially as arguments."
   ]
  },
  {
   "cell_type": "code",
   "execution_count": 8,
   "id": "c30f576a",
   "metadata": {},
   "outputs": [
    {
     "name": "stdout",
     "output_type": "stream",
     "text": [
      "12\n"
     ]
    }
   ],
   "source": [
    "double = lambda x: x * 2\n",
    "print(double(6))"
   ]
  },
  {
   "cell_type": "markdown",
   "id": "202bac2d",
   "metadata": {},
   "source": [
    "### **Q9:** Explain the purpose and usage of the map() function in Python.\n",
    "The map() function applies a function to every element in a given iterable and returns a map object (iterator)."
   ]
  },
  {
   "cell_type": "code",
   "execution_count": 9,
   "id": "db077540",
   "metadata": {},
   "outputs": [
    {
     "name": "stdout",
     "output_type": "stream",
     "text": [
      "[1, 4, 9]\n"
     ]
    }
   ],
   "source": [
    "nums = [1, 2, 3]\n",
    "squares = list(map(lambda x: x*x, nums))\n",
    "print(squares)"
   ]
  },
  {
   "cell_type": "markdown",
   "id": "b27764d7",
   "metadata": {},
   "source": [
    "### **Q10:** What is the difference between map(), reduce(), and filter() functions in Python?\n",
    "map() applies a function to each element, filter() selects elements by a function returning True, reduce() accumulates values using a function (from functools)."
   ]
  },
  {
   "cell_type": "code",
   "execution_count": 10,
   "id": "9500d1b3",
   "metadata": {},
   "outputs": [
    {
     "name": "stdout",
     "output_type": "stream",
     "text": [
      "[2, 3, 4, 5]\n",
      "[2, 4]\n",
      "10\n"
     ]
    }
   ],
   "source": [
    "from functools import reduce\n",
    "nums = [1,2,3,4]\n",
    "print(list(map(lambda x: x+1, nums)))\n",
    "print(list(filter(lambda x: x%2==0, nums)))\n",
    "totalSum = reduce(lambda x,y: x+y, nums)\n",
    "print(totalSum)"
   ]
  },
  {
   "attachments": {
    "16933e2e-2bbe-4fc3-9d46-9a3ad78f2a18.jpg": {
     "image/jpeg": "[encoded data removed]"
    }
   },
   "cell_type": "markdown",
   "id": "9e819ff0",
   "metadata": {},
   "source": [
    "### **Q11:** Using pen & Paper write the internal mechanism for sum operation using reduce function on this given list:[47,11,42,14];\n",
    "For reduce with sum operation: combine the first two elements, then add each subsequent element to the result: (((47+11)+42)+13)\n",
    "\n",
    "**Answer File** ![Q11 answer.jpg](attachment:16933e2e-2bbe-4fc3-9d46-9a3ad78f2a18.jpg)"
   ]
  },
  {
   "cell_type": "code",
   "execution_count": 11,
   "id": "da21bf64",
   "metadata": {},
   "outputs": [
    {
     "name": "stdout",
     "output_type": "stream",
     "text": [
      "113\n"
     ]
    }
   ],
   "source": [
    "from functools import reduce\n",
    "nums = [47,11,42,13]\n",
    "s = reduce(lambda x,y: x+y, nums)\n",
    "print(s)  # Step-by-step-> 47+11=58, 58+42=100, 100+13=113\n",
    "\n"
   ]
  },
  {
   "cell_type": "markdown",
   "id": "b8e5a12a-aebb-477b-8acf-979f3e5d2435",
   "metadata": {},
   "source": [
    "### Practical Question"
   ]
  },
  {
   "cell_type": "code",
   "execution_count": 12,
   "id": "3f902e3d-4df6-4612-bd27-394ccfb2daa1",
   "metadata": {},
   "outputs": [
    {
     "name": "stdout",
     "output_type": "stream",
     "text": [
      "12\n"
     ]
    }
   ],
   "source": [
    "# 1. Write a Python function that takes a list of numbers as input and returns the sum of all even numbers in the list.\n",
    "def sumEvenNumbers(nums):\n",
    "    return sum(x for x in nums if x % 2 == 0)\n",
    "\n",
    "print(sumEvenNumbers([1, 2, 3, 4, 5, 6]))"
   ]
  },
  {
   "cell_type": "code",
   "execution_count": 13,
   "id": "2eb0c175-1bb1-4f5e-962b-fcdbda933055",
   "metadata": {},
   "outputs": [
    {
     "name": "stdout",
     "output_type": "stream",
     "text": [
      "sllikSwP\n"
     ]
    }
   ],
   "source": [
    "# 2. Create a Python function that accepts a string and returns the reverse of that string.\n",
    "def reverseString(s):\n",
    "    return s[::-1]\n",
    "\n",
    "# Example:\n",
    "print(reverseString('PwSkills'))"
   ]
  },
  {
   "cell_type": "code",
   "execution_count": 14,
   "id": "0e07efd3-1b4e-4c86-8640-2ee90bf009f8",
   "metadata": {},
   "outputs": [
    {
     "name": "stdout",
     "output_type": "stream",
     "text": [
      "[1, 4, 9, 16]\n"
     ]
    }
   ],
   "source": [
    "# 3. Implement a Python function that takes a list of integers and returns a new list containing the squares of each number.\n",
    "def squareList(nums):\n",
    "    lst =[x**2 for x in nums]\n",
    "    return lst\n",
    "\n",
    "lst=squareList([1, 2, 3, 4])\n",
    "print(lst)\n"
   ]
  },
  {
   "cell_type": "code",
   "execution_count": 15,
   "id": "baa24e80-3689-4abf-a265-ef322572d796",
   "metadata": {},
   "outputs": [
    {
     "name": "stdout",
     "output_type": "stream",
     "text": [
      "True\n",
      "False\n"
     ]
    }
   ],
   "source": [
    "# 4. Write a Python function that checks if a given number is prime or not from 1 to 200.\n",
    "def isPrime(n):\n",
    "    if n < 2:\n",
    "        return False\n",
    "    for i in range(2, int(n**0.5) + 1):\n",
    "        if n % i == 0:\n",
    "            return False\n",
    "    return True\n",
    "\n",
    "print(isPrime(17)) \n",
    "print(isPrime(18))\n",
    "\n"
   ]
  },
  {
   "cell_type": "code",
   "execution_count": null,
   "id": "52292ac2-b1f5-41bc-b634-acc30d9d9c14",
   "metadata": {},
   "outputs": [],
   "source": []
  },
  {
   "cell_type": "code",
   "execution_count": 16,
   "id": "0008af07-6f61-4ce1-a3d6-f6551234431d",
   "metadata": {},
   "outputs": [
    {
     "name": "stdout",
     "output_type": "stream",
     "text": [
      "[1, 2, 4, 8, 16, 32]\n"
     ]
    }
   ],
   "source": [
    "# 6. Write a generator function in Python that yields the powers of 2 up to a given exponent.\n",
    "def powersOfTwo(exp):\n",
    "    for i in range(exp + 1):\n",
    "        yield 2 ** i\n",
    "\n",
    "print(list(powersOfTwo(5)))"
   ]
  },
  {
   "cell_type": "code",
   "execution_count": 17,
   "id": "d5be5bff-31b0-4539-a478-d85fb66972cc",
   "metadata": {},
   "outputs": [
    {
     "name": "stdout",
     "output_type": "stream",
     "text": [
      "Hey, i am Sharandeep Meharwal.\n",
      "I learn python.\n"
     ]
    }
   ],
   "source": [
    "# 7. Implement a generator function that reads a file line by line and yields each line as a string.\n",
    "def readLines(filename):\n",
    "    with open(filename ,\"r\") as file:\n",
    "        for line in file:\n",
    "            yield line.rstrip('\\n')\n",
    "\n",
    "for line in readLines('file.txt'):\n",
    "    print(line)"
   ]
  },
  {
   "cell_type": "code",
   "execution_count": 18,
   "id": "202adf0a-85f2-4933-994f-73fe1d0b9203",
   "metadata": {},
   "outputs": [
    {
     "name": "stdout",
     "output_type": "stream",
     "text": [
      "[(3, 1), (2, 2), (1, 3)]\n"
     ]
    }
   ],
   "source": [
    "# 8. Use a lambda function in Python to sort a list of tuples based on the second element of each tuple.\n",
    "tuplesList = [(1, 3), (2, 2), (3, 1)]\n",
    "sortedTuples = sorted(tuplesList, key=lambda x: x[1])\n",
    "print(sortedTuples) "
   ]
  },
  {
   "cell_type": "code",
   "execution_count": 19,
   "id": "5de5b973-0254-469c-bfda-b83c295ca906",
   "metadata": {},
   "outputs": [
    {
     "name": "stdout",
     "output_type": "stream",
     "text": [
      "[32.0, 68.0, 98.6, 212.0]\n"
     ]
    }
   ],
   "source": [
    "# 9. Write a Python program that uses map() to convert a list of temperatures from Celsius to Fahrenheit.\n",
    "def cToF(tempC):\n",
    "    return tempC * 9 / 5 + 32\n",
    "\n",
    "celciusList = [0, 20, 37, 100]\n",
    "fahrenheitList = list(map(cToF, celciusList))\n",
    "print(fahrenheitList)"
   ]
  },
  {
   "cell_type": "code",
   "execution_count": 20,
   "id": "6c51c44b-ea04-466c-810e-298df03296cb",
   "metadata": {},
   "outputs": [
    {
     "name": "stdout",
     "output_type": "stream",
     "text": [
      "Shrndp Mhrwl\n"
     ]
    }
   ],
   "source": [
    "# 10. Create a Python program that uses filter() to remove all the vowels from a given string.\n",
    "def removeVowels(s):\n",
    "    vowels = 'aeiouAEIOU'\n",
    "    return ''.join(filter(lambda x: x not in vowels, s))\n",
    "\n",
    "\n",
    "print(removeVowels('Sharandeep Meharwal'))  "
   ]
  },
  {
   "cell_type": "code",
   "execution_count": 21,
   "id": "151a6d15-bdc5-449b-a6ad-0a93c6331ce1",
   "metadata": {},
   "outputs": [
    {
     "name": "stdout",
     "output_type": "stream",
     "text": [
      "[(34587, 163.8), (98762, 284.0), (77226, 108.85000000000001), (88112, 84.97)]\n"
     ]
    }
   ],
   "source": [
    "# 11. Imagine an accounting routine used in a book shop. It works on a list with sublists, which look like this:\n",
    "orders = [\n",
    "    [34587, \"Learning Python, Mark Lutz\", 4, 40.95],\n",
    "    [98762, \"Programming Python, Mark Lutz\", 5, 56.80],\n",
    "    [77226, \"Head First Python, Paul Barry\", 3, 32.95],\n",
    "    [88112, \"Einführung in Python3, Bernd Klein\", 3, 24.99]\n",
    "]\n",
    "\n",
    "result = list(map(lambda x: (x[0], x[2] * x[3] if x[2] * x[3] >= 100 else x[2] * x[3] + 10), orders))\n",
    "\n",
    "print(result)"
   ]
  },
  {
   "cell_type": "code",
   "execution_count": null,
   "id": "75bb7473-e006-41e5-ac3f-b692b027262c",
   "metadata": {},
   "outputs": [],
   "source": []
  }
 ],
 "metadata": {
  "kernelspec": {
   "display_name": "Python 3 (ipykernel)",
   "language": "python",
   "name": "python3"
  },
  "language_info": {
   "codemirror_mode": {
    "name": "ipython",
    "version": 3
   },
   "file_extension": ".py",
   "mimetype": "text/x-python",
   "name": "python",
   "nbconvert_exporter": "python",
   "pygments_lexer": "ipython3",
   "version": "3.13.2"
  }
 },
 "nbformat": 4,
 "nbformat_minor": 5
}
