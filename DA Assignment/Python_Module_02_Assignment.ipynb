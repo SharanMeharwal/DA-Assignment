{
 "cells": [
  {
   "cell_type": "raw",
   "id": "8a73a00b-069f-4f0d-a566-a58ed5d7f447",
   "metadata": {},
   "source": [
    "1.What is Python, and why is it popular?\n",
    "    Python is a high-level, interpreted programming language known for its simplicity,\n",
    "    readability, and wide-ranging libraries. It is popular due to its clear syntax, ease of \n",
    "    learning, community support, versatility, and use in web development, data science, AI, and \n",
    "    automation.\n",
    "\n",
    "2.What is an interpreter in Python?\n",
    "    An interpreter executes Python code line by line, translating it into machine code \n",
    "    dynamically, which allows for immediate feedback and testing during development.\n",
    "\n",
    "3.What are pre-defined keywords in Python?\n",
    "    Pre-defined keywords are reserved words in Python that have special meaning (e.g., if, else,       while, for, def, return). They cannot be used for variable, function, or identifier names.\n",
    "\n",
    "4.Can keywords be used as variable names?\n",
    "    No, Python keywords cannot be used as variable names as they are reserved for specific             syntactic purposes.\n",
    "\n",
    "5.What is mutability in Python?\n",
    "    Mutability refers to whether an object’s value can be changed after creation. Mutable objects      (like lists and dictionaries) can be modified, while immutable objects (like strings, tuples,      and integers) cannot.\n",
    "\n",
    "6.Why are lists mutable, but tuples are immutable?\n",
    "    Lists are mutable because their elements can be changed after creation. Tuples are immutable       to maintain data integrity, allow for hashability (important for dictionary keys), and ensure      fixed data.\n",
    "\n",
    "7.What is the difference between “==” and “is” operators in Python?\n",
    "\n",
    "    == compares values for equality.\n",
    "    is checks whether two objects refer to the same memory location (identity).\n",
    "\n",
    "8.What are logical operators in Python?\n",
    "    Logical operators are used to combine conditional statements:\n",
    "    \n",
    "    and (True if both are true)\n",
    "    or (True if at least one is true)\n",
    "    not (negates the result)\n",
    "\n",
    "9.What is type casting in Python?\n",
    "    Type casting is converting a value from one data type to another, such as using int(), \n",
    "    float(), or str() to change the type explicitly.\n",
    "\n",
    "10.What is the difference between implicit and explicit type casting?\n",
    "    Implicit type casting: Python automatically converts types (e.g., int to float in arithmetic \n",
    "    operations).\n",
    "\n",
    "    Explicit type casting: Programmers manually convert types using functions like int(), float(), \n",
    "    str().\n",
    "\n",
    "11.What is the purpose of conditional statements in Python?\n",
    "    Conditional statements (if, elif, else) control the flow of the program by executing specific \n",
    "    blocks of code based on certain conditions.\n",
    "\n",
    "12.How does the elif statement work?\n",
    "    The elif (else if) statement allows checking multiple expressions for True and executes the \n",
    "    block of code for the first true condition. If none are true, it moves to the else block (if \n",
    "    present).\n",
    "\n",
    "13.What is the difference between for and while loops?\n",
    "    for loops iterate over a sequence (like lists, strings, ranges) and are used when the number \n",
    "    of iterations is known.\n",
    "    while loops execute as long as a condition is True, ideal when the number of iterations is not \n",
    "    predetermined.\n",
    "\n",
    "14.Describe a scenario where a while loop is more suitable than a for loop.\n",
    "    A while loop is better when you don’t know how many times you need to repeat something — for \n",
    "    example, Continuously rolling a dice until you get a 6. You don’t know how many rolls it will \n",
    "    take, so you use a while loop to keep rolling until you get the desired number."
   ]
  },
  {
   "cell_type": "raw",
   "id": "99063126-5c98-4829-9cca-8f9f6ed3037d",
   "metadata": {},
   "source": [
    "PRACTICAL QUESTIONS"
   ]
  },
  {
   "cell_type": "code",
   "execution_count": 1,
   "id": "0a2cf03a-de54-4546-9625-8bc3964fa57c",
   "metadata": {},
   "outputs": [
    {
     "name": "stdout",
     "output_type": "stream",
     "text": [
      "Hello, World!\n"
     ]
    }
   ],
   "source": [
    "# 1. Write a Python program to print \"Hello, World!\" on the screen.\n",
    "print(\"Hello, World!\")"
   ]
  },
  {
   "cell_type": "code",
   "execution_count": 2,
   "id": "44cf3295-2802-489a-80d3-b01e34a7e3f0",
   "metadata": {},
   "outputs": [
    {
     "name": "stdout",
     "output_type": "stream",
     "text": [
      "Name: Sharandeep Meharwal\n",
      "Age: 20\n"
     ]
    }
   ],
   "source": [
    "# 2. Write a Python program to display your name and age.\n",
    "name = \"Sharandeep Meharwal\"\n",
    "age = 20\n",
    "print(\"Name:\", name)\n",
    "print(\"Age:\", age)"
   ]
  },
  {
   "cell_type": "code",
   "execution_count": 3,
   "id": "7a671713-ca52-47dc-a134-6b0d9f215920",
   "metadata": {},
   "outputs": [
    {
     "name": "stdout",
     "output_type": "stream",
     "text": [
      "['False', 'None', 'True', 'and', 'as', 'assert', 'async', 'await', 'break', 'class', 'continue', 'def', 'del', 'elif', 'else', 'except', 'finally', 'for', 'from', 'global', 'if', 'import', 'in', 'is', 'lambda', 'nonlocal', 'not', 'or', 'pass', 'raise', 'return', 'try', 'while', 'with', 'yield']\n"
     ]
    }
   ],
   "source": [
    "# 3. Write code to print all the pre-defined keywords in Python using the keyword library.\n",
    "import keyword\n",
    "print(keyword.kwlist)"
   ]
  },
  {
   "cell_type": "code",
   "execution_count": 4,
   "id": "145b7b60-d309-4df2-bbcf-df6a608259f1",
   "metadata": {},
   "outputs": [
    {
     "name": "stdin",
     "output_type": "stream",
     "text": [
      "Enter a word:  while\n"
     ]
    },
    {
     "name": "stdout",
     "output_type": "stream",
     "text": [
      "while is a Python keyword.\n"
     ]
    }
   ],
   "source": [
    "# 4. Write a Python program to check if a given word is a Python keyword.\n",
    "import keyword\n",
    "word = input(\"Enter a word: \")\n",
    "if keyword.iskeyword(word):\n",
    "    print(f\"{word} is a Python keyword.\")\n",
    "else:\n",
    "    print(f\"{word} is not a Python keyword.\")"
   ]
  },
  {
   "cell_type": "code",
   "execution_count": 5,
   "id": "f3522be2-baae-4d42-ad54-c7b3648c7a5d",
   "metadata": {},
   "outputs": [
    {
     "name": "stdout",
     "output_type": "stream",
     "text": [
      "Modified list: [100, 2, 3]\n"
     ]
    }
   ],
   "source": [
    "# 5. Create a list and tuple in Python, and demonstrate how attempting to change an element works differently for each.\n",
    "my_list = [1, 2, 3]\n",
    "my_list[0] = 100  # This works\n",
    "print(\"Modified list:\", my_list) # Show modified list\n",
    "# This Shows ,lists are mutable"
   ]
  },
  {
   "cell_type": "code",
   "execution_count": 6,
   "id": "023f1bf2-c2b2-48c3-afd1-509960a34d29",
   "metadata": {},
   "outputs": [
    {
     "ename": "TypeError",
     "evalue": "'tuple' object does not support item assignment",
     "output_type": "error",
     "traceback": [
      "\u001b[31m---------------------------------------------------------------------------\u001b[39m",
      "\u001b[31mTypeError\u001b[39m                                 Traceback (most recent call last)",
      "\u001b[36mCell\u001b[39m\u001b[36m \u001b[39m\u001b[32mIn[6]\u001b[39m\u001b[32m, line 2\u001b[39m\n\u001b[32m      1\u001b[39m my_tuple = (\u001b[32m1\u001b[39m, \u001b[32m2\u001b[39m, \u001b[32m3\u001b[39m)\n\u001b[32m----> \u001b[39m\u001b[32m2\u001b[39m \u001b[43mmy_tuple\u001b[49m\u001b[43m[\u001b[49m\u001b[32;43m0\u001b[39;49m\u001b[43m]\u001b[49m = \u001b[32m100\u001b[39m  \u001b[38;5;66;03m# This will cause an error\u001b[39;00m\n\u001b[32m      3\u001b[39m \u001b[38;5;66;03m# This Shows ,Tuples are immutable, cannot change elements\u001b[39;00m\n",
      "\u001b[31mTypeError\u001b[39m: 'tuple' object does not support item assignment"
     ]
    }
   ],
   "source": [
    "my_tuple = (1, 2, 3)\n",
    "my_tuple[0] = 100  # This will cause an error\n",
    "# This Shows ,Tuples are immutable, cannot change elements"
   ]
  },
  {
   "cell_type": "code",
   "execution_count": 7,
   "id": "fc11f098-7f47-414e-aeb4-fab0a070dfd9",
   "metadata": {},
   "outputs": [
    {
     "name": "stdout",
     "output_type": "stream",
     "text": [
      "Integer after function call: 5\n",
      "List after function call: [1, 2, 3, 4]\n"
     ]
    }
   ],
   "source": [
    "# 6. Write a function to demonstrate the behavior of mutable and immutable arguments.\n",
    "def modify(num, lst):\n",
    "    num += 1  # int is immutable\n",
    "    lst.append(4)  # list is mutable\n",
    "\n",
    "n = 5\n",
    "l = [1, 2, 3]\n",
    "modify(n, l)\n",
    "print(\"Integer after function call:\", n)  # unchanged\n",
    "print(\"List after function call:\", l)     # changed"
   ]
  },
  {
   "cell_type": "code",
   "execution_count": 9,
   "id": "f2859a35-2df9-49fa-b009-b8d4c3ea0190",
   "metadata": {},
   "outputs": [
    {
     "name": "stdin",
     "output_type": "stream",
     "text": [
      "Enter first number:  5\n",
      "Enter second number:  4\n"
     ]
    },
    {
     "name": "stdout",
     "output_type": "stream",
     "text": [
      "Sum: 9.0\n",
      "Difference: 1.0\n",
      "Product: 20.0\n",
      "Quotient: 1.25\n"
     ]
    }
   ],
   "source": [
    "# 7. Write a program that performs basic arithmetic operations on two user-input numbers.\n",
    "a = float(input(\"Enter first number: \"))\n",
    "b = float(input(\"Enter second number: \"))\n",
    "print(\"Sum:\", a + b)\n",
    "print(\"Difference:\", a - b)\n",
    "print(\"Product:\", a * b)\n",
    "if b != 0:\n",
    "    print(\"Quotient:\", a / b)\n",
    "else:\n",
    "    print(\"Cannot divide by zero.\")"
   ]
  },
  {
   "cell_type": "code",
   "execution_count": 10,
   "id": "6f0b1d18-061f-49eb-8161-fa5d7817aa34",
   "metadata": {},
   "outputs": [
    {
     "name": "stdout",
     "output_type": "stream",
     "text": [
      "x and y: False\n",
      "x and z: True\n",
      "y and z: False\n",
      "y and y: False\n",
      "x or y: True\n",
      "x or z: True\n",
      "y or z: True\n",
      "y or y: False\n",
      "not x: False\n",
      "not y: True\n"
     ]
    }
   ],
   "source": [
    "# 8. Write a Python program demonstrating the use of the logical operators.\n",
    "x = True\n",
    "y = False\n",
    "z = True\n",
    "\n",
    "# Using 'and' operator\n",
    "print(\"x and y:\", x and y)   # True AND False -> False\n",
    "print(\"x and z:\", x and z)   # True AND True -> True\n",
    "print(\"y and z:\", y and z)   # False AND True -> False\n",
    "print(\"y and y:\", y and y)   # False AND False -> False\n",
    "\n",
    "# Using 'or' operator\n",
    "print(\"x or y:\", x or y)     # True OR False -> True\n",
    "print(\"x or z:\", x or z)     # True OR True -> True\n",
    "print(\"y or z:\", y or z)     # False OR True -> True\n",
    "print(\"y or y:\", y or y)     # False OR False -> False\n",
    "\n",
    "# Using 'not' operator\n",
    "print(\"not x:\", not x)       # NOT True -> False\n",
    "print(\"not y:\", not y)       # NOT False -> True"
   ]
  },
  {
   "cell_type": "code",
   "execution_count": 11,
   "id": "f5303c4b-7bb4-4a0f-b5cc-134aee7051dc",
   "metadata": {},
   "outputs": [
    {
     "name": "stdin",
     "output_type": "stream",
     "text": [
      "Enter a value:  10\n"
     ]
    },
    {
     "name": "stdout",
     "output_type": "stream",
     "text": [
      "As integer: 10\n",
      "As float: 10.0\n",
      "As boolean: True\n"
     ]
    }
   ],
   "source": [
    "# 9. Write a Python program to convert a given user input string into integer, float, and boolean types.\n",
    "s = input(\"Enter a value: \")\n",
    "print(\"As integer:\", int(s))\n",
    "print(\"As float:\", float(s))\n",
    "print(\"As boolean:\", bool(s))"
   ]
  },
  {
   "cell_type": "code",
   "execution_count": 12,
   "id": "27edc411-83bf-4d0f-8c14-1d2b2a88d293",
   "metadata": {},
   "outputs": [
    {
     "name": "stdout",
     "output_type": "stream",
     "text": [
      "[1, 2, 3]\n"
     ]
    }
   ],
   "source": [
    "# 10. Write a Python program to perform type casting with list element\n",
    "#from string elements in a list to integers.\n",
    "list1 = ['1', '2', '3']\n",
    "int_list = [int(x) for x in list1]\n",
    "print(int_list)"
   ]
  },
  {
   "cell_type": "code",
   "execution_count": 13,
   "id": "37cabdb5-1897-4b7f-95c9-aad68e42d5e8",
   "metadata": {},
   "outputs": [
    {
     "name": "stdin",
     "output_type": "stream",
     "text": [
      "Enter a number:  11\n"
     ]
    },
    {
     "name": "stdout",
     "output_type": "stream",
     "text": [
      "Positive\n"
     ]
    }
   ],
   "source": [
    "# 11. Write a Python program to check whether a number is positive, negative, or zero.\n",
    "num = float(input(\"Enter a number: \"))\n",
    "if num > 0:\n",
    "    print(\"Positive\")\n",
    "elif num < 0:\n",
    "    print(\"Negative\")\n",
    "else:\n",
    "    print(\"Zero\")"
   ]
  },
  {
   "cell_type": "code",
   "execution_count": 14,
   "id": "678448d0-3516-4dab-a1cf-e19fc53f4ad8",
   "metadata": {},
   "outputs": [
    {
     "name": "stdout",
     "output_type": "stream",
     "text": [
      "1\n",
      "2\n",
      "3\n",
      "4\n",
      "5\n",
      "6\n",
      "7\n",
      "8\n",
      "9\n",
      "10\n"
     ]
    }
   ],
   "source": [
    "\n",
    "# 12. Write a Python program using a for loop to print numbers from 1 to 10.\n",
    "for i in range(1, 11):\n",
    "    print(i)\n"
   ]
  },
  {
   "cell_type": "code",
   "execution_count": 15,
   "id": "f0a819d0-ddd2-449c-a1d9-7667f67620f4",
   "metadata": {},
   "outputs": [
    {
     "name": "stdout",
     "output_type": "stream",
     "text": [
      "Sum of even numbers: 650\n"
     ]
    }
   ],
   "source": [
    "# 13. Write a Python program to find the sum of all even numbers between 1 and 50.\n",
    "total = 0\n",
    "for i in range(2, 51, 2):\n",
    "    total += i\n",
    "print(\"Sum of even numbers:\", total)"
   ]
  },
  {
   "cell_type": "code",
   "execution_count": null,
   "id": "81a213bf-3a7d-41ba-922d-3895615fc050",
   "metadata": {},
   "outputs": [],
   "source": [
    "# 14. Write a Python program to reverse a string using a while loop.\n",
    "s = input(\"Enter a string: \")\n",
    "rev = ''\n",
    "i = len(s)-1 \n",
    "while i >= 0:\n",
    "    rev += s[i]\n",
    "    i -= 1\n",
    "print(\"Reversed string:\", rev)"
   ]
  },
  {
   "cell_type": "code",
   "execution_count": null,
   "id": "6e995df9-0d70-4365-9dfe-2109c53a2a23",
   "metadata": {},
   "outputs": [],
   "source": [
    "# 15. Write a Python program to calculate the factorial of a number provided by the user using a while loop.\n",
    "n = int(input(\"Enter a number: \"))\n",
    "fact = 1\n",
    "i = 1\n",
    "while i <= n:\n",
    "    fact *= i\n",
    "    i += 1\n",
    "print(\"Factorial:\", fact)"
   ]
  },
  {
   "cell_type": "code",
   "execution_count": null,
   "id": "58790924-bbde-4543-a017-09e0f4bb49b3",
   "metadata": {},
   "outputs": [],
   "source": []
  }
 ],
 "metadata": {
  "kernelspec": {
   "display_name": "Python 3 (ipykernel)",
   "language": "python",
   "name": "python3"
  },
  "language_info": {
   "codemirror_mode": {
    "name": "ipython",
    "version": 3
   },
   "file_extension": ".py",
   "mimetype": "text/x-python",
   "name": "python",
   "nbconvert_exporter": "python",
   "pygments_lexer": "ipython3",
   "version": "3.13.2"
  }
 },
 "nbformat": 4,
 "nbformat_minor": 5
}
