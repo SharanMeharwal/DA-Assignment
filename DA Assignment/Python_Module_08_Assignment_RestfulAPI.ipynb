{
 "cells": [
  {
   "cell_type": "markdown",
   "id": "5edb7df8-d896-4076-9f60-e6d72f97350f",
   "metadata": {},
   "source": [
    "# Python_Module_08_Assignment_Restful API & Flask"
   ]
  },
  {
   "cell_type": "markdown",
   "id": "e935db19-ad49-4d1e-9006-76006fffc033",
   "metadata": {},
   "source": [
    "### 1. What is a RESTful API?\n",
    "\n",
    "A RESTful API (Representational State Transfer API) is an interface that allows two computer systems to exchange information securely over the internet using HTTP methods like GET, POST, PUT, and DELETE. RESTful APIs conform to the constraints of REST architecture and use endpoints to identify resources.\n",
    "\n",
    "Example: A RESTful API endpoint for books might be '/api/books' with GET to fetch books and POST to add books."
   ]
  },
  {
   "cell_type": "markdown",
   "id": "b2b18a2f-799b-47dc-abd4-1704a1c0575c",
   "metadata": {},
   "source": [
    "### 2. Explain the concept of API specification.\n",
    "\n",
    "An API specification is a detailed description of how an API behaves, the endpoints available, the structure of requests and responses, and any authentication methods.\n",
    "\n",
    "Example: The OpenAPI (Swagger) specification is a popular format used to document RESTful APIs."
   ]
  },
  {
   "cell_type": "markdown",
   "id": "8f085cf0-f6ba-4b0e-8b3d-2ab0de881c26",
   "metadata": {},
   "source": [
    "### 3. What is Flask, and why is it popular for building APIs?\n",
    "\n",
    "Flask is a lightweight Python web framework used to build web applications and APIs. It is popular because of its simplicity, flexibility, and large ecosystem.\n",
    "\n",
    "Example: Flask allows developers to build an API in just a few lines of code."
   ]
  },
  {
   "cell_type": "markdown",
   "id": "ccfa7103-0881-49c0-9f15-6ba9d364b3e2",
   "metadata": {},
   "source": [
    "### 4. What is routing in Flask?\n",
    "\n",
    "Routing in Flask is the process of mapping URLs to functions that handle the request.\n",
    "\n",
    "Example: '@app.route('/hello')' maps the '/hello' URL to a Python function."
   ]
  },
  {
   "cell_type": "markdown",
   "id": "a7409cd8-f216-4728-a9b1-f4491d8b5e33",
   "metadata": {},
   "source": [
    "### 5. How do you create a simple Flask application?\n",
    "\n",
    "To create a simple Flask app, install Flask, then write:\n",
    "\n",
    "```python\n",
    "from flask import Flask\n",
    "app = Flask(__name__)\n",
    "@app.route('/')\n",
    "def hello():\n",
    "    return 'Hello, World!'\n",
    "if __name__ == '__main__':\n",
    "    app.run()\n",
    "```"
   ]
  },
  {
   "cell_type": "markdown",
   "id": "e833108e-e97d-4798-85f2-7002478fd1bb",
   "metadata": {},
   "source": [
    "### 6. What are HTTP methods used in RESTful APIs?\n",
    "\n",
    "Common HTTP methods in RESTful APIs: GET (retrieve), POST (create), PUT (update), DELETE (remove), PATCH (partial update).\n",
    "\n",
    "Example: GET /users fetches users, POST /users creates a user."
   ]
  },
  {
   "cell_type": "markdown",
   "id": "aa1900a0-f154-41d7-8cce-e3065ae7f8ac",
   "metadata": {},
   "source": [
    "### 7. What is the purpose of the @app.route() decorator in Flask?\n",
    "\n",
    "The @app.route() decorator is used to associate a URL with a view function. It tells Flask which URL should trigger the function.\n",
    "\n",
    "Example: '@app.route('/items')' binds the '/items' URL to the decorated function."
   ]
  },
  {
   "cell_type": "markdown",
   "id": "1af7d952-3d5e-4c5d-a914-063324929031",
   "metadata": {},
   "source": [
    "### 8. What is the difference between GET and POST HTTP methods?\n",
    "\n",
    "GET requests are used to retrieve data; POST requests are used to submit (create) data.\n",
    "\n",
    "Example: GET /products returns a list of products, POST /products adds a new product."
   ]
  },
  {
   "cell_type": "markdown",
   "id": "55f9601e-8cf0-44b1-9f55-8754813677ed",
   "metadata": {},
   "source": [
    "### 9. How do you handle errors in Flask APIs?\n",
    "\n",
    "To handle errors in Flask, use error handlers or the 'abort()' function.\n",
    "\n",
    "Example: '@app.errorhandler(404)' defines a function for 404 errors."
   ]
  },
  {
   "cell_type": "markdown",
   "id": "2e561ae5-f21b-43fd-a0fd-6750d63ed712",
   "metadata": {},
   "source": [
    "### 10. How do you connect Flask to a SQL database?\n",
    "\n",
    "Connect Flask to SQL database using an ORM like SQLAlchemy or Flask-SQLAlchemy.\n",
    "\n",
    "Example: Using Flask-SQLAlchemy to define models and connect to an SQLite database."
   ]
  },
  {
   "cell_type": "markdown",
   "id": "6399aa3e-7b49-49ec-9888-bb10283768dc",
   "metadata": {},
   "source": [
    "### 11. What is the role of Flask-SQLAlchemy?\n",
    "\n",
    "Flask-SQLAlchemy is a Flask extension that integrates SQLAlchemy ORM with Flask to simplify database operations.\n",
    "\n",
    "Example: Use models to represent database tables, then query with Python code."
   ]
  },
  {
   "cell_type": "markdown",
   "id": "b0bb9677-5a67-45b6-a1e2-035c3e50cca0",
   "metadata": {},
   "source": [
    "### 12. What are Flask blueprints, and how are they useful?\n",
    "\n",
    "Flask blueprints allow developers to organize apps into smaller components, making code modular and reusable.\n",
    "\n",
    "Example: Create an 'auth' blueprint for authentication routes."
   ]
  },
  {
   "cell_type": "markdown",
   "id": "827da999-1136-446a-8cc2-373e8ebb8d0a",
   "metadata": {},
   "source": [
    "### 13. What is the purpose of Flask's request object?\n",
    "\n",
    "The request object in Flask gives access to incoming request data such as form data, JSON, headers, and more.\n",
    "\n",
    "Example: 'request.json' holds POSTed JSON data."
   ]
  },
  {
   "cell_type": "markdown",
   "id": "9ed87333-3544-4e60-80d1-3060c6b20e0d",
   "metadata": {},
   "source": [
    "### 14. How do you create a RESTful API endpoint using Flask?\n",
    "\n",
    "A RESTful API endpoint in Flask is a function mapped to a URL that responds with JSON and uses appropriate HTTP methods.\n",
    "\n",
    "Example:\n",
    "```python\n",
    "@app.route('/api/items', methods=['GET'])\n",
    "def get_items():\n",
    "    return jsonify(items)\n",
    "```"
   ]
  },
  {
   "cell_type": "markdown",
   "id": "2be9c43a-26b1-457f-a371-469dab92b80e",
   "metadata": {},
   "source": [
    "### 15. What is the purpose of Flask's jsonify() function?\n",
    "\n",
    "jsonify() is used to convert Python data structures to JSON and set the appropriate response headers.\n",
    "\n",
    "Example: return jsonify({'message': 'ok'}) returns a JSON response."
   ]
  },
  {
   "cell_type": "markdown",
   "id": "40c9d493-c093-496d-b84f-54c712bf12b5",
   "metadata": {},
   "source": [
    "### 16. Explain Flask's url_for() function.\n",
    "\n",
    "url_for() generates URLs for functions based on their name, making code maintainable.\n",
    "\n",
    "Example: url_for('hello') returns '/' if hello() is mapped to '/' route."
   ]
  },
  {
   "cell_type": "markdown",
   "id": "1f31c3f9-9bc5-4fc0-8e52-6517ba630a4e",
   "metadata": {},
   "source": [
    "### 17. How does Flask handle static files (CSS, JavaScript, etc.)?\n",
    "\n",
    "By default, Flask serves files from a 'static' folder. You can place CSS, JavaScript, and images here and access them via '/static/filename'."
   ]
  },
  {
   "cell_type": "markdown",
   "id": "6aa11561-8f18-46b3-ac31-c267b454886d",
   "metadata": {},
   "source": [
    "### 18. What is an API specification, and how does it help in building a Flask API?\n",
    "\n",
    "An API specification documents your API, helping teams build and consume it correctly. Using OpenAPI ensures clear structure and expectations.\n",
    "\n",
    "Example: Writing API specs with YAML or JSON for Swagger UI."
   ]
  },
  {
   "cell_type": "markdown",
   "id": "af92ea96-90f7-4ec5-94d4-c26029a03b5b",
   "metadata": {},
   "source": [
    "### 19. What are HTTP status codes, and why are they important in a Flask API?\n",
    "\n",
    "HTTP status codes tell the client the outcome of the request (e.g., 200 OK, 404 Not Found, 201 Created). They help clients handle responses correctly."
   ]
  },
  {
   "cell_type": "markdown",
   "id": "5f96d01c-724f-488a-a21b-6a9bbf9f0fc3",
   "metadata": {},
   "source": [
    "### 20. How do you handle POST requests in Flask?\n",
    "\n",
    "To handle POST requests in Flask, define a route that accepts POST and use 'request' to get data.\n",
    "\n",
    "Example:\n",
    "```python\n",
    "@app.route('/save', methods=['POST'])\n",
    "def save():\n",
    "    data = request.json\n",
    "    # process data\n",
    "    return 'Saved!'\n",
    "```"
   ]
  },
  {
   "cell_type": "markdown",
   "id": "e01f708d-eb73-411d-a70b-e381cd27e106",
   "metadata": {},
   "source": [
    "### 21. How would you secure a Flask API?\n",
    "\n",
    "To secure a Flask API, use authentication (such as JWT or OAuth), HTTPS, and input validation.\n",
    "\n",
    "Example: Require tokens for API routes."
   ]
  },
  {
   "cell_type": "markdown",
   "id": "f51739f9-cfad-4dd5-a7b3-2d550603eeff",
   "metadata": {},
   "source": [
    "### 22. What is the significance of the Flask-RESTful extension?\n",
    "\n",
    "Flask-RESTful is an extension for building RESTful APIs quickly. It provides tools for defining resources and handling input/output automatically."
   ]
  },
  {
   "cell_type": "markdown",
   "id": "06865652-5efe-42e5-ac65-3b3ecfde6645",
   "metadata": {},
   "source": [
    "### 23. What is the role of Flask's session object?\n",
    "\n",
    "session in Flask allows you to persist data across requests for a user, commonly used for login state.\n",
    "\n",
    "Example: session['username'] = user"
   ]
  },
  {
   "cell_type": "markdown",
   "id": "697b4916-2126-4c04-b424-d0ba65485e32",
   "metadata": {},
   "source": [
    "## Practical"
   ]
  },
  {
   "cell_type": "code",
   "execution_count": 5,
   "id": "77da69f9-835b-4869-884d-9c280e904845",
   "metadata": {},
   "outputs": [],
   "source": [
    "# 1. How do you create a basic Flask application?\n",
    "from flask import Flask\n",
    "app = Flask(__name__)\n",
    "\n",
    "@app.route(\"/\")\n",
    "def home():\n",
    "    return \"Hello, Flask!\""
   ]
  },
  {
   "cell_type": "code",
   "execution_count": null,
   "id": "27b93b60-6ca3-4e7d-bcc4-72b2b03db785",
   "metadata": {},
   "outputs": [],
   "source": [
    "# 2. How do you serve static files like images or CSS in Flask?\n",
    "\"\"\"\n",
    "<link rel=\"stylesheet\" href=\"{{ url_for('static', filename='style.css') }}\">\n",
    "\"\"\""
   ]
  },
  {
   "cell_type": "code",
   "execution_count": 6,
   "id": "34b3889b-f72f-4d58-a08b-01e34bdace17",
   "metadata": {},
   "outputs": [],
   "source": [
    "# 3. How do you define different routes with different HTTP methods in Flask?\n",
    "@app.route(\"/submit\", methods=[\"GET\", \"POST\"])\n",
    "def submit():\n",
    "    if request.method == \"POST\":\n",
    "        return \"Posted!\"\n",
    "    else:\n",
    "        return \"Get request\""
   ]
  },
  {
   "cell_type": "code",
   "execution_count": null,
   "id": "9aa32f02-643f-4e83-bba1-ee10bce3e1fe",
   "metadata": {},
   "outputs": [],
   "source": [
    "# 4. How do you render HTML templates in Flask?\n",
    "from flask import render_template\n",
    "\n",
    "@app.route(\"/hello\")\n",
    "def hello():\n",
    "    return render_template(\"hello.html\", name=\"User\")"
   ]
  },
  {
   "cell_type": "code",
   "execution_count": null,
   "id": "8df3d503-0ea0-4daf-8f37-ed87bcd8bede",
   "metadata": {},
   "outputs": [],
   "source": [
    "# 5. How can you generate URLs for routes in Flask using url_for?\n",
    "from flask import url_for\n",
    "\n",
    "@app.route(\"/profile\")\n",
    "def profile():\n",
    "    return url_for(\"profile\")"
   ]
  },
  {
   "cell_type": "code",
   "execution_count": null,
   "id": "6468097a-045c-43b1-84ef-ce8181addf19",
   "metadata": {},
   "outputs": [],
   "source": [
    "# 6. How do you handle forms in Flask?\n",
    "from flask import request\n",
    "\n",
    "@app.route(\"/submit\", methods=[\"POST\"])\n",
    "def submit():\n",
    "    username = request.form[\"username\"]\n",
    "    return f\"Hello {username}\""
   ]
  },
  {
   "cell_type": "code",
   "execution_count": null,
   "id": "f76e22bf-6cd5-4860-bb75-74cf9dc1c34a",
   "metadata": {},
   "outputs": [],
   "source": [
    "# 7. How can you validate form data in Flask?\n",
    "# Manual check or Flask-WTF for validation\n",
    "if not request.form[\"username\"]:\n",
    "    return \"Username required\", 400"
   ]
  },
  {
   "cell_type": "code",
   "execution_count": null,
   "id": "e49702e9-8fbe-472d-b33a-6b2e2a16f9ca",
   "metadata": {},
   "outputs": [],
   "source": [
    "# 8. How do you manage sessions in Flask?\n",
    "from flask import session\n",
    "\n",
    "app.secret_key = \"your_secret_key\"\n",
    "session[\"user\"] = \"username\"\n",
    "user = session.get(\"user\")"
   ]
  },
  {
   "cell_type": "code",
   "execution_count": null,
   "id": "313fe833-747f-440c-a6d5-b8a02c112898",
   "metadata": {},
   "outputs": [],
   "source": [
    "# 9. How do you redirect to a different route in Flask?\n",
    "from flask import redirect, url_for\n",
    "\n",
    "@app.route(\"/go-home\")\n",
    "def go_home():\n",
    "    return redirect(url_for(\"home\"))"
   ]
  },
  {
   "cell_type": "code",
   "execution_count": null,
   "id": "468bb086-9138-4146-8180-25eba0df3ad7",
   "metadata": {},
   "outputs": [],
   "source": [
    "# 10. How do you handle errors in Flask (e.g., 404)?\n",
    "@app.errorhandler(404)\n",
    "def page_not_found(e):\n",
    "    return render_template(\"404.html\"), 404"
   ]
  },
  {
   "cell_type": "code",
   "execution_count": null,
   "id": "1a2ced54-7136-407c-83cb-466c71e4ca63",
   "metadata": {},
   "outputs": [],
   "source": [
    "# 11. How do you structure a Flask app using Blueprints?\n",
    "from flask import Blueprint\n",
    "\n",
    "bp = Blueprint(\"admin\", __name__, url_prefix=\"/admin\")\n",
    "\n",
    "@bp.route(\"/dashboard\")\n",
    "def dashboard():\n",
    "    return \"Admin Dashboard\"\n",
    "\n",
    "app.register_blueprint(bp)"
   ]
  },
  {
   "cell_type": "code",
   "execution_count": null,
   "id": "db06ad55-b087-43d8-9d64-9ae5874c93e0",
   "metadata": {},
   "outputs": [],
   "source": [
    "# 12. How do you define a custom Jinja filter in Flask?\n",
    "@app.template_filter(\"reverse\")\n",
    "def reverse_filter(s):\n",
    "    return s[::-1]"
   ]
  },
  {
   "cell_type": "code",
   "execution_count": null,
   "id": "c0ac1817-4c6d-4cdf-8aa4-d387fddd17ef",
   "metadata": {},
   "outputs": [],
   "source": [
    "# 13. How can you redirect with query parameters in Flask?\n",
    "return redirect(url_for(\"search\", q=\"flask\"))"
   ]
  },
  {
   "cell_type": "code",
   "execution_count": null,
   "id": "c0459bfb-d13e-4bb5-a227-f090d0697a24",
   "metadata": {},
   "outputs": [],
   "source": [
    "# 14. How do you return JSON responses in Flask?\n",
    "from flask import jsonify\n",
    "\n",
    "@app.route(\"/api\")\n",
    "def api():\n",
    "    return jsonify({\"name\": \"Flask\", \"type\": \"framework\"})"
   ]
  },
  {
   "cell_type": "code",
   "execution_count": 4,
   "id": "7b2c1068-2ce6-4b14-9ab0-c7c4ce9fed6e",
   "metadata": {},
   "outputs": [],
   "source": [
    "# 15. How do you capture URL parameters in Flask?\n",
    "@app.route(\"/user/<username>\")\n",
    "def user_profile(username):\n",
    "    return f\"User: {username}\""
   ]
  }
 ],
 "metadata": {
  "kernelspec": {
   "display_name": "Python 3 (ipykernel)",
   "language": "python",
   "name": "python3"
  },
  "language_info": {
   "codemirror_mode": {
    "name": "ipython",
    "version": 3
   },
   "file_extension": ".py",
   "mimetype": "text/x-python",
   "name": "python",
   "nbconvert_exporter": "python",
   "pygments_lexer": "ipython3",
   "version": "3.13.2"
  }
 },
 "nbformat": 4,
 "nbformat_minor": 5
}
