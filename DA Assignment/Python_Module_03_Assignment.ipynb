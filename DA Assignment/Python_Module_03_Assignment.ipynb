{
 "cells": [
  {
   "cell_type": "raw",
   "id": "19051620-4f7d-48e3-96e8-587a18863b73",
   "metadata": {},
   "source": [
    "1.What are data structures, and why are they important?\n",
    "    Data structures are specialized formats for organizing, processing, and storing data. They are important because they optimize data access and modification, improve code efficiency, and help solve complex problems efficiently.\n",
    "\n",
    "2.Explain the difference between mutable and immutable data types with examples.\n",
    "    Mutable data types can be changed after creation (e.g., lists: ``). Immutable data types cannot be changed after creation (e.g., tuples: (1,2,3), strings: \"hello\").\n",
    "\n",
    "3.What are the main differences between lists and tuples in Python?\n",
    "    Lists are mutable, can be modified after creation, and use [], while tuples are immutable, cannot be altered, and use ().\n",
    "\n",
    "4.Describe how dictionaries store data.\n",
    "    Dictionaries store data as key-value pairs, allowing fast lookup of values using unique keys.\n",
    "\n",
    "5.Why might you use a set instead of a list in Python?\n",
    "    Sets automatically eliminate duplicate values and offer fast membership tests, making them ideal for uniqueness checks.\n",
    "\n",
    "6.What is a string in Python, and how is it different from a list?\n",
    "    A string is an immutable sequence of characters, while a list is a mutable, ordered collection of items that can be of any data type.\n",
    "\n",
    "7.How do tuples ensure data integrity in Python?\n",
    "    Tuples are immutable, so once created, their contents cannot be changed, protecting data from accidental modification.\n",
    "\n",
    "8.What is a hash table, and how does it relate to dictionaries in Python?\n",
    "    A hash table is a data structure that maps keys to values using a hash function. Python dictionaries are implemented using hash tables.\n",
    "\n",
    "9.Can lists contain different data types in Python?\n",
    "    Yes, lists can contain elements of multiple data types, such as integers, strings, and objects.\n",
    "\n",
    "10.Explain why strings are immutable in Python.\n",
    "    Strings are immutable for safety, efficiency, and to allow sharing without risk of data corruption.\n",
    "\n",
    "11.What advantages do dictionaries offer over lists for certain tasks?\n",
    "    Dictionaries provide fast lookups by keys, are more efficient for mapping relationships, and make searching for values much faster than lists.\n",
    "\n",
    "12.Describe a scenario where using a tuple would be preferable over a list.\n",
    "    When data should not be modified, such as representing a fixed coordinate (x, y), tuples are preferable for safety.\n",
    "\n",
    "13.How do sets handle duplicate values in Python?\n",
    "    Sets automatically discard duplicates and store only unique items.\n",
    "\n",
    "14.How does the “in” keyword work differently for lists and dictionaries?\n",
    "    For lists, in checks for existence of an element. For dictionaries, in checks for the presence of a key.\n",
    "\n",
    "15.Can you modify the elements of a tuple? Explain why or why not.\n",
    "    No, tuples are immutable; once created, their values cannot be changed.\n",
    "\n",
    "16.What is a nested dictionary, and give an example of its use case?\n",
    "    A nested dictionary is a dictionary containing another dictionary as a value. Example: students = {101: {\"name\": \"Sharan\", \"age\": 20}} for grouping student data by ID.\n",
    "\n",
    "17.Describe the time complexity of accessing elements in a dictionary.\n",
    "    Accessing dictionary elements is typically O(1) due to hash table implementation.\n",
    "\n",
    "18.In what situations are lists preferred over dictionaries?\n",
    "    Lists are preferred when ordering matters, or when you need to store simple collections without key-value mapping.\n",
    "\n",
    "19.Why are dictionaries considered unordered, and how does that affect data retrieval?\n",
    "    Historically, dictionaries in Python were unordered, so items did not maintain insertion order (order preservation is guaranteed only in Python 3.7+). Unordered dicts mean retrieval order is unpredictable.\n",
    "\n",
    "20.Explain the difference between a list and a dictionary in terms of data retrieval.\n",
    "    Lists retrieve values by index (position), while dictionaries retrieve values by key, making dict lookups faster for large datasets."
   ]
  },
  {
   "cell_type": "raw",
   "id": "08c05721-6155-4e07-b92e-30f6e73ec538",
   "metadata": {},
   "source": [
    "PRACTICAL QUESTION"
   ]
  },
  {
   "cell_type": "code",
   "execution_count": 1,
   "id": "9918de5a",
   "metadata": {},
   "outputs": [
    {
     "name": "stdout",
     "output_type": "stream",
     "text": [
      "Sharandeep Meharwal\n"
     ]
    }
   ],
   "source": [
    "# Question 1: Write a code to create a string with your name and print it.\n",
    "name = \"Sharandeep Meharwal\"\n",
    "print(name)"
   ]
  },
  {
   "cell_type": "code",
   "execution_count": 2,
   "id": "8016f0df",
   "metadata": {},
   "outputs": [
    {
     "name": "stdout",
     "output_type": "stream",
     "text": [
      "11\n"
     ]
    }
   ],
   "source": [
    "# Question 2: Write a code to find the length of the string \"Hello World\".\n",
    "s = \"Hello World\"\n",
    "print(len(s))"
   ]
  },
  {
   "cell_type": "code",
   "execution_count": 3,
   "id": "b50d9782",
   "metadata": {},
   "outputs": [
    {
     "name": "stdout",
     "output_type": "stream",
     "text": [
      "Pyt\n"
     ]
    }
   ],
   "source": [
    "# Question 3: Write a code to slice the first 3 characters from the string \"Python Programming\".\n",
    "s = \"Python Programming\"\n",
    "print(s[:3])"
   ]
  },
  {
   "cell_type": "code",
   "execution_count": 4,
   "id": "e3d1afa2",
   "metadata": {},
   "outputs": [
    {
     "name": "stdout",
     "output_type": "stream",
     "text": [
      "HELLO\n"
     ]
    }
   ],
   "source": [
    "# Question 4: Write a code to convert the string \"hello\" to uppercase.\n",
    "s = \"hello\"\n",
    "print(s.upper())"
   ]
  },
  {
   "cell_type": "code",
   "execution_count": 5,
   "id": "569b3dc0",
   "metadata": {},
   "outputs": [
    {
     "name": "stdout",
     "output_type": "stream",
     "text": [
      "I like orange\n"
     ]
    }
   ],
   "source": [
    "# Question 5: Write a code to replace the word \"apple\" with \"orange\" in the string \"I like apple\".\n",
    "s = \"I like apple\"\n",
    "print(s.replace(\"apple\", \"orange\"))"
   ]
  },
  {
   "cell_type": "code",
   "execution_count": 6,
   "id": "c3e8e94f",
   "metadata": {},
   "outputs": [
    {
     "name": "stdout",
     "output_type": "stream",
     "text": [
      "[1, 2, 3, 4, 5]\n"
     ]
    }
   ],
   "source": [
    "# Question 6: Write a code to create a list with numbers 1 to 5 and print it.\n",
    "numbers = [1, 2, 3, 4, 5]\n",
    "print(numbers)"
   ]
  },
  {
   "cell_type": "code",
   "execution_count": 7,
   "id": "223c4b79",
   "metadata": {},
   "outputs": [
    {
     "name": "stdout",
     "output_type": "stream",
     "text": [
      "[1, 2, 3, 4, 10]\n"
     ]
    }
   ],
   "source": [
    "# Question 7: Write a code to append the number 10 to the list [1, 2, 3, 4].\n",
    "lst = [1, 2, 3, 4]\n",
    "lst.append(10)\n",
    "print(lst)"
   ]
  },
  {
   "cell_type": "code",
   "execution_count": 8,
   "id": "863f0666",
   "metadata": {},
   "outputs": [
    {
     "name": "stdout",
     "output_type": "stream",
     "text": [
      "[1, 2, 4, 5]\n"
     ]
    }
   ],
   "source": [
    "# Question 8: Write a code to remove the number 3 from the list [1, 2, 3, 4, 5].\n",
    "lst = [1, 2, 3, 4, 5]\n",
    "lst.remove(3)\n",
    "print(lst)"
   ]
  },
  {
   "cell_type": "code",
   "execution_count": 9,
   "id": "99ecc4e0",
   "metadata": {},
   "outputs": [
    {
     "name": "stdout",
     "output_type": "stream",
     "text": [
      "b\n"
     ]
    }
   ],
   "source": [
    "# Question 9: Write a code to access the second element in the list ['a', 'b', 'c', 'd'].\n",
    "lst = ['a', 'b', 'c', 'd']\n",
    "print(lst[1])"
   ]
  },
  {
   "cell_type": "code",
   "execution_count": 10,
   "id": "f7f08639",
   "metadata": {},
   "outputs": [
    {
     "name": "stdout",
     "output_type": "stream",
     "text": [
      "[50, 40, 30, 20, 10]\n"
     ]
    }
   ],
   "source": [
    "# Question 10: Write a code to reverse the list [10, 20, 30, 40, 50].\n",
    "lst = [10, 20, 30, 40, 50]\n",
    "lst.reverse()\n",
    "print(lst)"
   ]
  },
  {
   "cell_type": "code",
   "execution_count": 11,
   "id": "e15d4552",
   "metadata": {},
   "outputs": [
    {
     "name": "stdout",
     "output_type": "stream",
     "text": [
      "(100, 200, 300)\n"
     ]
    }
   ],
   "source": [
    "# Question 11: Write a code to create a tuple with the elements 100, 200, 300 and print it.\n",
    "tpl = (100, 200, 300)\n",
    "print(tpl)"
   ]
  },
  {
   "cell_type": "code",
   "execution_count": 12,
   "id": "5d13bd8a",
   "metadata": {},
   "outputs": [
    {
     "name": "stdout",
     "output_type": "stream",
     "text": [
      "blue\n"
     ]
    }
   ],
   "source": [
    "# Question 12: Write a code to access the second-to-last element of the tuple ('red', 'green', 'blue', 'yellow').\n",
    "tpl = ('red', 'green', 'blue', 'yellow')\n",
    "print(tpl[-2])"
   ]
  },
  {
   "cell_type": "code",
   "execution_count": 13,
   "id": "fbc94a40",
   "metadata": {},
   "outputs": [
    {
     "name": "stdout",
     "output_type": "stream",
     "text": [
      "5\n"
     ]
    }
   ],
   "source": [
    "# Question 13: Write a code to find the minimum number in the tuple (10, 20, 5, 15).\n",
    "tpl = (10, 20, 5, 15)\n",
    "print(min(tpl))"
   ]
  },
  {
   "cell_type": "code",
   "execution_count": 14,
   "id": "f7e0fdc2",
   "metadata": {},
   "outputs": [
    {
     "name": "stdout",
     "output_type": "stream",
     "text": [
      "1\n"
     ]
    }
   ],
   "source": [
    "# Question 14: Write a code to find the index of the element 'cat' in the tuple ('dog', 'cat', 'rabbit').\n",
    "tpl = ('dog', 'cat', 'rabbit')\n",
    "print(tpl.index('cat'))"
   ]
  },
  {
   "cell_type": "code",
   "execution_count": 15,
   "id": "1a3b3d97",
   "metadata": {},
   "outputs": [
    {
     "name": "stdout",
     "output_type": "stream",
     "text": [
      "False\n"
     ]
    }
   ],
   "source": [
    "# Question 15: Write a code to create a tuple containing three different fruits and check if \"kiwi\" is in it.\n",
    "fruits = (\"apple\", \"banana\", \"orange\")\n",
    "print(\"kiwi\" in fruits)"
   ]
  },
  {
   "cell_type": "code",
   "execution_count": 16,
   "id": "4a0b223b",
   "metadata": {},
   "outputs": [
    {
     "name": "stdout",
     "output_type": "stream",
     "text": [
      "{'a', 'c', 'b'}\n"
     ]
    }
   ],
   "source": [
    "# Question 16: Write a code to create a set with the elements 'a', 'b', 'c' and print it.\n",
    "s = set(['a', 'b', 'c'])\n",
    "print(s)"
   ]
  },
  {
   "cell_type": "code",
   "execution_count": 17,
   "id": "d07cb7af",
   "metadata": {},
   "outputs": [
    {
     "name": "stdout",
     "output_type": "stream",
     "text": [
      "set()\n"
     ]
    }
   ],
   "source": [
    "# Question 17: Write a code to clear all elements from the set {1, 2, 3, 4, 5}.\n",
    "s = {1, 2, 3, 4, 5}\n",
    "s.clear()\n",
    "print(s)"
   ]
  },
  {
   "cell_type": "code",
   "execution_count": 18,
   "id": "4cc687dd",
   "metadata": {},
   "outputs": [
    {
     "name": "stdout",
     "output_type": "stream",
     "text": [
      "{1, 2, 3}\n"
     ]
    }
   ],
   "source": [
    "# Question 18: Write a code to remove the element 4 from the set {1, 2, 3, 4}.\n",
    "s = {1, 2, 3, 4}\n",
    "s.discard(4)\n",
    "print(s)"
   ]
  },
  {
   "cell_type": "code",
   "execution_count": 19,
   "id": "cc137287",
   "metadata": {},
   "outputs": [
    {
     "name": "stdout",
     "output_type": "stream",
     "text": [
      "{1, 2, 3, 4, 5}\n"
     ]
    }
   ],
   "source": [
    "# Question 19: Write a code to find the union of two sets {1, 2, 3} and {3, 4, 5}.\n",
    "s1 = {1, 2, 3}\n",
    "s2 = {3, 4, 5}\n",
    "print(s1.union(s2))"
   ]
  },
  {
   "cell_type": "code",
   "execution_count": 20,
   "id": "42e035ba",
   "metadata": {},
   "outputs": [
    {
     "name": "stdout",
     "output_type": "stream",
     "text": [
      "{2, 3}\n"
     ]
    }
   ],
   "source": [
    "# Question 20: Write a code to find the intersection of two sets {1, 2, 3} and {2, 3, 4}.\n",
    "s1 = {1, 2, 3}\n",
    "s2 = {2, 3, 4}\n",
    "print(s1.intersection(s2))"
   ]
  },
  {
   "cell_type": "code",
   "execution_count": 21,
   "id": "907d55be",
   "metadata": {},
   "outputs": [
    {
     "name": "stdout",
     "output_type": "stream",
     "text": [
      "{'name': 'Alice', 'age': 25, 'city': 'Paris'}\n"
     ]
    }
   ],
   "source": [
    "# Question 21: Write a code to create a dictionary with the keys \"name\", \"age\", and \"city\", and print it.\n",
    "d = {\"name\": \"Alice\", \"age\": 25, \"city\": \"Paris\"}\n",
    "print(d)"
   ]
  },
  {
   "cell_type": "code",
   "execution_count": 22,
   "id": "91b78fba",
   "metadata": {},
   "outputs": [
    {
     "name": "stdout",
     "output_type": "stream",
     "text": [
      "{'name': 'John', 'age': 25, 'country': 'USA'}\n"
     ]
    }
   ],
   "source": [
    "# Question 22: Write a code to add a new key-value pair \"country\": \"USA\" to the dictionary {\"name\": \"John\", \"age\": 25}.\n",
    "d = {\"name\": \"John\", \"age\": 25}\n",
    "d[\"country\"] = \"USA\"\n",
    "print(d)"
   ]
  },
  {
   "cell_type": "code",
   "execution_count": 23,
   "id": "cad45e70",
   "metadata": {},
   "outputs": [
    {
     "name": "stdout",
     "output_type": "stream",
     "text": [
      "Alice\n"
     ]
    }
   ],
   "source": [
    "# Question 23: Write a code to access the value associated with the key \"name\" in the dictionary {\"name\": \"Alice\", \"age\": 30}.\n",
    "d = {\"name\": \"Alice\", \"age\": 30}\n",
    "print(d[\"name\"])"
   ]
  },
  {
   "cell_type": "code",
   "execution_count": 24,
   "id": "5fabf219",
   "metadata": {},
   "outputs": [
    {
     "name": "stdout",
     "output_type": "stream",
     "text": [
      "{'name': 'Bob', 'city': 'New York'}\n"
     ]
    }
   ],
   "source": [
    "# Question 24: Write a code to remove the key \"age\" from the dictionary {\"name\": \"Bob\", \"age\": 22, \"city\": \"New York\"}.\n",
    "d = {\"name\": \"Bob\", \"age\": 22, \"city\": \"New York\"}\n",
    "d.pop(\"age\")\n",
    "print(d)"
   ]
  },
  {
   "cell_type": "code",
   "execution_count": 25,
   "id": "4ebee9a3",
   "metadata": {},
   "outputs": [
    {
     "name": "stdout",
     "output_type": "stream",
     "text": [
      "True\n"
     ]
    }
   ],
   "source": [
    "# Question 25: Write a code to check if the key \"city\" exists in the dictionary {\"name\": \"Alice\", \"city\": \"Paris\"}.\n",
    "d = {\"name\": \"Alice\", \"city\": \"Paris\"}\n",
    "print(\"city\" in d)"
   ]
  },
  {
   "cell_type": "code",
   "execution_count": 26,
   "id": "567b74ed",
   "metadata": {},
   "outputs": [
    {
     "name": "stdout",
     "output_type": "stream",
     "text": [
      "[1, 2] (3, 4) {5: 'five'}\n"
     ]
    }
   ],
   "source": [
    "# Question 26: Write a code to create a list, a tuple, and a dictionary, and print them all.\n",
    "lst = [1, 2]\n",
    "tpl = (3, 4)\n",
    "d = {5: \"five\"}\n",
    "print(lst, tpl, d)"
   ]
  },
  {
   "cell_type": "code",
   "execution_count": 27,
   "id": "e7d90ed0",
   "metadata": {},
   "outputs": [
    {
     "name": "stdout",
     "output_type": "stream",
     "text": [
      "[36, 73, 79, 82, 90]\n"
     ]
    }
   ],
   "source": [
    "# Question 27: Write a code to create a list of 5 random numbers between 1 and 100, sort it in ascending order, and print the result.\n",
    "import random\n",
    "lst = [random.randint(1,100) for _ in range(5)]\n",
    "lst.sort()\n",
    "print(lst)"
   ]
  },
  {
   "cell_type": "code",
   "execution_count": 28,
   "id": "b0089282",
   "metadata": {},
   "outputs": [
    {
     "name": "stdout",
     "output_type": "stream",
     "text": [
      "four\n"
     ]
    }
   ],
   "source": [
    "# Question 28: Write a code to create a list with strings and print the element at the third index.\n",
    "lst = [\"one\", \"two\", \"three\", \"four\"]\n",
    "print(lst[3])"
   ]
  },
  {
   "cell_type": "code",
   "execution_count": 29,
   "id": "d8be1fa7",
   "metadata": {},
   "outputs": [
    {
     "name": "stdout",
     "output_type": "stream",
     "text": [
      "{'a': 1, 'b': 2, 'c': 3, 'd': 4}\n"
     ]
    }
   ],
   "source": [
    "# Question 29: Write a code to combine two dictionaries into one and print the result.\n",
    "d1 = {\"a\": 1, \"b\": 2}\n",
    "d2 = {\"c\": 3, \"d\": 4}\n",
    "d3 = {**d1, **d2}\n",
    "print(d3)"
   ]
  },
  {
   "cell_type": "code",
   "execution_count": 30,
   "id": "7af32229",
   "metadata": {},
   "outputs": [
    {
     "name": "stdout",
     "output_type": "stream",
     "text": [
      "{'a', 'c', 'b'}\n"
     ]
    }
   ],
   "source": [
    "# Question 30: Write a code to convert a list of strings into a set.\n",
    "lst = [\"a\", \"b\", \"c\"]\n",
    "s = set(lst)\n",
    "print(s)"
   ]
  }
 ],
 "metadata": {
  "kernelspec": {
   "display_name": "Python 3 (ipykernel)",
   "language": "python",
   "name": "python3"
  },
  "language_info": {
   "codemirror_mode": {
    "name": "ipython",
    "version": 3
   },
   "file_extension": ".py",
   "mimetype": "text/x-python",
   "name": "python",
   "nbconvert_exporter": "python",
   "pygments_lexer": "ipython3",
   "version": "3.13.2"
  }
 },
 "nbformat": 4,
 "nbformat_minor": 5
}
