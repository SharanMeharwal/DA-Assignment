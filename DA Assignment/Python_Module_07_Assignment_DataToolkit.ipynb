{
 "cells": [
  {
   "cell_type": "markdown",
   "id": "ac4f67a2-0c24-45c3-b5de-41941a0034ff",
   "metadata": {},
   "source": [
    "# Python_Module_07_Assignment_DataToolkit"
   ]
  },
  {
   "cell_type": "markdown",
   "id": "7846d57d-7f89-498b-8ad9-f866b647c1a8",
   "metadata": {},
   "source": [
    "### 1. What is NumPy, and why is it widely used in Python?\n",
    "\n",
    "NumPy is a core Python library for scientific computing, providing efficient arrays and mathematical operations, making large-scale numerical tasks and data analysis fast and convenient."
   ]
  },
  {
   "cell_type": "markdown",
   "id": "dabf4c33-47a7-431d-b79a-f7c048de403c",
   "metadata": {},
   "source": [
    "### 2. How does broadcasting work in NumPy?\n",
    "\n",
    "Broadcasting allows arrays of different shapes to be used together in arithmetic operations, automatically expanding smaller arrays to match the others for efficient element-wise calculation."
   ]
  },
  {
   "cell_type": "markdown",
   "id": "e8340372-713a-4734-b3c6-f37050aca08e",
   "metadata": {},
   "source": [
    "### 3. What is a Pandas DataFrame?\n",
    "\n",
    "A Pandas DataFrame is a labeled, two-dimensional table for storing and manipulating heterogeneous data, offering fast operations for cleaning, transforming, and analyzing tabular datasets."
   ]
  },
  {
   "cell_type": "markdown",
   "id": "539bcf09-604c-4c60-b7d3-ce4978a787d5",
   "metadata": {},
   "source": [
    "### 4. Explain the use of the groupby() method in Pandas.\n",
    "\n",
    "The groupby() method splits data into groups based on column values, enabling aggregate functions—like sum, mean, or count—to be easily applied to each subgroup for analysis."
   ]
  },
  {
   "cell_type": "markdown",
   "id": "ca792199-517a-4240-af58-7cb1f62f1c51",
   "metadata": {},
   "source": [
    "### 5. Why is Seaborn preferred for statistical visualizations?\n",
    "\n",
    "Seaborn builds on Matplotlib, offering easy-to-use functions for attractive statistical plots (histograms, boxplots, etc.), with built-in support for dataframes and themes."
   ]
  },
  {
   "cell_type": "markdown",
   "id": "76254e65-1cc5-4860-80f1-82bf16401342",
   "metadata": {},
   "source": [
    "### 6. What are the differences between NumPy arrays and Python lists?\n",
    "\n",
    "NumPy arrays support fast, vectorized mathematical operations and homogeneous data types. Python lists are slower, hold heterogeneous items, and lack direct mathematical functionality."
   ]
  },
  {
   "cell_type": "markdown",
   "id": "27ecf0ad-0f00-4163-b345-9d48685a20c0",
   "metadata": {},
   "source": [
    "### 7. What is a heatmap, and when should it be used?\n",
    "\n",
    "A heatmap visualizes data with colors, revealing patterns and correlations. It’s best used for depicting data matrices, correlation tables, or showing the intensity of events across dimensions."
   ]
  },
  {
   "cell_type": "markdown",
   "id": "6f01dd7c-2df9-4fc8-a37f-40b27f662c09",
   "metadata": {},
   "source": [
    "### 8. What does the term vectorized operation mean in NumPy?\n",
    "\n",
    "Vectorized operations perform calculations on entire arrays without explicit Python loops, leading to concise code and major speed improvements in numerical computations."
   ]
  },
  {
   "cell_type": "markdown",
   "id": "ae2418ec-7cd1-45ee-a874-037b3be73d29",
   "metadata": {},
   "source": [
    "### 9. How does Matplotlib differ from Plotly?\n",
    "\n",
    "Matplotlib creates static, publication-ready charts; Plotly delivers interactive, web-based visualizations with zoom and hover support for exploratory analysis."
   ]
  },
  {
   "cell_type": "markdown",
   "id": "51c899fe-ae59-4d7a-8507-0d79e62609cf",
   "metadata": {},
   "source": [
    "### 10. What is the significance of hierarchical indexing in Pandas?\n",
    "\n",
    "Hierarchical indexing (multi-index) allows multiple levels of row or column labels, making complex data reshaping, slicing, and grouping much easier for large datasets."
   ]
  },
  {
   "cell_type": "markdown",
   "id": "b7e497f0-1ec1-4d73-ae3e-649ffd099fe6",
   "metadata": {},
   "source": [
    "### 11. What is the role of Seaborn’s pairplot() function?\n",
    "\n",
    "pairplot() generates scatter plots (or histograms) for all variable pairs in a dataframe, quickly revealing relationships and distribution patterns among features."
   ]
  },
  {
   "cell_type": "markdown",
   "id": "cce8cccb-d567-4708-874f-1ac55988b6d3",
   "metadata": {},
   "source": [
    "### 12. What is the purpose of the describe() function in Pandas?\n",
    "\n",
    "describe() rapidly summarizes key statistics (count, mean, min, max, quartiles) of numeric columns in a DataFrame for initial data exploration."
   ]
  },
  {
   "cell_type": "markdown",
   "id": "0dec1b8b-183b-4b8c-82b3-e10276099327",
   "metadata": {},
   "source": [
    "### 13. Why is handling missing data important in Pandas?\n",
    "\n",
    "Missing data can distort analysis. Pandas offers tools to detect, remove, or impute missing values, ensuring reliable insights and accurate modeling."
   ]
  },
  {
   "cell_type": "markdown",
   "id": "600118c6-a058-41e4-bb2b-166c6caeb319",
   "metadata": {},
   "source": [
    "### 14. What are the benefits of using Plotly for data visualization?\n",
    "\n",
    "Plotly enables interactive, customizable, and web-friendly graphs (scatter, line, bar, pie charts) ideal for exploring data and sharing results."
   ]
  },
  {
   "cell_type": "markdown",
   "id": "39649c85-0803-458b-b4d2-0a0b3d9ae37a",
   "metadata": {},
   "source": [
    "### 15. How does NumPy handle multidimensional arrays?\n",
    "\n",
    "NumPy provides n-dimensional arrays and extensive functions for reshaping, slicing, and performing operations across dimensions for complex numerical data."
   ]
  },
  {
   "cell_type": "markdown",
   "id": "cd0a5792-738e-43b7-938c-3c08cde4ee30",
   "metadata": {},
   "source": [
    "### 16. What is the role of Bokeh in data visualization?\n",
    "\n",
    "Bokeh creates interactive, browser-based visualizations, supporting large datasets, streaming, and real-time dashboards suitable for web applications."
   ]
  },
  {
   "cell_type": "markdown",
   "id": "66988db4-72c9-455a-8f2a-b9d5af0fe6b0",
   "metadata": {},
   "source": [
    "### 17. Explain the difference between apply() and map() in Pandas.\n",
    "\n",
    "apply() applies a function to each row/column or the entire DataFrame; map() works element-wise, typically on Series to substitute or transform values."
   ]
  },
  {
   "cell_type": "markdown",
   "id": "096850bb-652e-4580-9e94-38b90f7bb745",
   "metadata": {},
   "source": [
    "### 18. What are some advanced features of NumPy?\n",
    "\n",
    "Advanced features include broadcasting, masked arrays, linear algebra operations, Fourier transforms, random simulation, and custom data types."
   ]
  },
  {
   "cell_type": "markdown",
   "id": "5213b881-b2d1-46ce-8bfb-57f26773a67c",
   "metadata": {},
   "source": [
    "### 19. How does Pandas simplify time series analysis?\n",
    "\n",
    "Pandas supports powerful date/time indexing, resampling, rolling statistics, and time-based grouping, streamlining time series data manipulation and analysis."
   ]
  },
  {
   "cell_type": "markdown",
   "id": "e5d3d9ef-06e5-42e5-9cc8-03a5430722f9",
   "metadata": {},
   "source": [
    "### 20. What is the role of a pivot table in Pandas?\n",
    "\n",
    "A pivot table rearranges and summarizes data, aggregating statistics across chosen rows and columns—key for reporting, cross-tabulation, and analysis."
   ]
  },
  {
   "cell_type": "markdown",
   "id": "0571355c-7d16-4d62-9c1a-919b6e8ad2cd",
   "metadata": {},
   "source": [
    "### 21. Why is NumPy’s array slicing faster than Python’s list slicing?\n",
    "\n",
    "NumPy array slicing is performed on contiguous blocks of memory and leverages compiled code, making it much faster and more efficient than Python list slicing."
   ]
  },
  {
   "cell_type": "markdown",
   "id": "d87fb947-e229-4d60-84ea-797aba2f39f5",
   "metadata": {},
   "source": [
    "### 22. What are some common use cases for Seaborn?\n",
    "\n",
    "Seaborn is ideal for exploratory data analysis, statistical charting (histograms, boxplots, violin plots), correlation matrices, and quickly visualizing relationships in structured datasets."
   ]
  },
  {
   "cell_type": "markdown",
   "id": "89ac3086-bbb5-4583-918f-2c864e66d97e",
   "metadata": {},
   "source": [
    "## PRACTICAL"
   ]
  },
  {
   "cell_type": "code",
   "execution_count": 5,
   "id": "d38aa07f-a245-48ef-ae75-729679885c1c",
   "metadata": {},
   "outputs": [
    {
     "name": "stdout",
     "output_type": "stream",
     "text": [
      "[ 6 15]\n"
     ]
    }
   ],
   "source": [
    "# 1. How do you create a 2D NumPy array and calculate the sum of each row?\n",
    "\n",
    "import numpy as np\n",
    "arr = np.array([[1, 2, 3], [4, 5, 6]])\n",
    "row_sums = arr.sum(axis=1)\n",
    "print(row_sums)"
   ]
  },
  {
   "cell_type": "code",
   "execution_count": 7,
   "id": "35ed0350-9503-4a63-9558-ee9cfe2b8c39",
   "metadata": {},
   "outputs": [
    {
     "name": "stdout",
     "output_type": "stream",
     "text": [
      "2.0\n"
     ]
    }
   ],
   "source": [
    "# 2. Write a Pandas script to find the mean of a specific column in a DataFrame.\n",
    "\n",
    "import pandas as pd\n",
    "df = pd.DataFrame({'A': [1, 2, 3], 'B': [4, 5, 6]})\n",
    "mean_a = df['A'].mean()  \n",
    "print(mean_a)"
   ]
  },
  {
   "cell_type": "code",
   "execution_count": 9,
   "id": "841f3189-3ebd-46aa-b837-f0b195beb556",
   "metadata": {},
   "outputs": [
    {
     "data": {
      "image/png": "[encoded data removed]",
      "text/plain": [
       "<Figure size 640x480 with 1 Axes>"
      ]
     },
     "metadata": {},
     "output_type": "display_data"
    }
   ],
   "source": [
    "# 3. Create a scatter plot using Matplotlib.\n",
    "import matplotlib.pyplot as plt\n",
    "x = [1, 2, 3, 4]\n",
    "y = [10, 20, 25, 30]\n",
    "plt.scatter(x, y)\n",
    "plt.show()\n"
   ]
  },
  {
   "cell_type": "code",
   "execution_count": 13,
   "id": "7c0f9ac0-7500-4173-bb5f-f79e954ab93d",
   "metadata": {},
   "outputs": [
    {
     "data": {
      "image/png": "[encoded data removed]",
      "text/plain": [
       "<Figure size 640x480 with 2 Axes>"
      ]
     },
     "metadata": {},
     "output_type": "display_data"
    }
   ],
   "source": [
    "# 4. How do you calculate the correlation matrix using Seaborn and visualize it with a heatmap?\n",
    "import seaborn as sns\n",
    "import pandas as pd\n",
    "data = pd.DataFrame({\n",
    "    'A': [1, 2, 3, 4, 5],\n",
    "    'B': [5, 4, 3, 2, 1],\n",
    "    'C': [2, 3, 4, 5, 6],\n",
    "    'D': [5, 6, 7, 8, 9]\n",
    "})\n",
    "\n",
    "corr = data.corr()\n",
    "sns.heatmap(corr, annot=True)\n",
    "plt.show()\n"
   ]
  },
  {
   "cell_type": "code",
   "execution_count": 15,
   "id": "09e7f84a-002d-4300-b5df-9f268ea457b3",
   "metadata": {},
   "outputs": [
    {
     "data": {
      "application/vnd.plotly.v1+json": {
       "config": {
        "plotlyServerURL": "https://plot.ly"
       },
       "data": [
        {
         "hovertemplate": "x=%{x}<br>y=%{y}<extra></extra>",
         "legendgroup": "",
         "marker": {
          "color": "#636efa",
          "pattern": {
           "shape": ""
          }
         },
         "name": "",
         "orientation": "v",
         "showlegend": false,
         "textposition": "auto",
         "type": "bar",
         "x": [
          "A",
          "B",
          "C",
          "D"
         ],
         "xaxis": "x",
         "y": {
          "bdata": "ChQyHg==",
          "dtype": "i1"
         },
         "yaxis": "y"
        }
       ],
       "layout": {
        "barmode": "relative",
        "legend": {
         "tracegroupgap": 0
        },
        "margin": {
         "t": 60
        },
        "template": {
         "data": {
          "bar": [
           {
            "error_x": {
             "color": "#2a3f5f"
            },
            "error_y": {
             "color": "#2a3f5f"
            },
            "marker": {
             "line": {
              "color": "#E5ECF6",
              "width": 0.5
             },
             "pattern": {
              "fillmode": "overlay",
              "size": 10,
              "solidity": 0.2
             }
            },
            "type": "bar"
           }
          ],
          "barpolar": [
           {
            "marker": {
             "line": {
              "color": "#E5ECF6",
              "width": 0.5
             },
             "pattern": {
              "fillmode": "overlay",
              "size": 10,
              "solidity": 0.2
             }
            },
            "type": "barpolar"
           }
          ],
          "carpet": [
           {
            "aaxis": {
             "endlinecolor": "#2a3f5f",
             "gridcolor": "white",
             "linecolor": "white",
             "minorgridcolor": "white",
             "startlinecolor": "#2a3f5f"
            },
            "baxis": {
             "endlinecolor": "#2a3f5f",
             "gridcolor": "white",
             "linecolor": "white",
             "minorgridcolor": "white",
             "startlinecolor": "#2a3f5f"
            },
            "type": "carpet"
           }
          ],
          "choropleth": [
           {
            "colorbar": {
             "outlinewidth": 0,
             "ticks": ""
            },
            "type": "choropleth"
           }
          ],
          "contour": [
           {
            "colorbar": {
             "outlinewidth": 0,
             "ticks": ""
            },
            "colorscale": [
             [
              0,
              "#0d0887"
             ],
             [
              0.1111111111111111,
              "#46039f"
             ],
             [
              0.2222222222222222,
              "#7201a8"
             ],
             [
              0.3333333333333333,
              "#9c179e"
             ],
             [
              0.4444444444444444,
              "#bd3786"
             ],
             [
              0.5555555555555556,
              "#d8576b"
             ],
             [
              0.6666666666666666,
              "#ed7953"
             ],
             [
              0.7777777777777778,
              "#fb9f3a"
             ],
             [
              0.8888888888888888,
              "#fdca26"
             ],
             [
              1,
              "#f0f921"
             ]
            ],
            "type": "contour"
           }
          ],
          "contourcarpet": [
           {
            "colorbar": {
             "outlinewidth": 0,
             "ticks": ""
            },
            "type": "contourcarpet"
           }
          ],
          "heatmap": [
           {
            "colorbar": {
             "outlinewidth": 0,
             "ticks": ""
            },
            "colorscale": [
             [
              0,
              "#0d0887"
             ],
             [
              0.1111111111111111,
              "#46039f"
             ],
             [
              0.2222222222222222,
              "#7201a8"
             ],
             [
              0.3333333333333333,
              "#9c179e"
             ],
             [
              0.4444444444444444,
              "#bd3786"
             ],
             [
              0.5555555555555556,
              "#d8576b"
             ],
             [
              0.6666666666666666,
              "#ed7953"
             ],
             [
              0.7777777777777778,
              "#fb9f3a"
             ],
             [
              0.8888888888888888,
              "#fdca26"
             ],
             [
              1,
              "#f0f921"
             ]
            ],
            "type": "heatmap"
           }
          ],
          "histogram": [
           {
            "marker": {
             "pattern": {
              "fillmode": "overlay",
              "size": 10,
              "solidity": 0.2
             }
            },
            "type": "histogram"
           }
          ],
          "histogram2d": [
           {
            "colorbar": {
             "outlinewidth": 0,
             "ticks": ""
            },
            "colorscale": [
             [
              0,
              "#0d0887"
             ],
             [
              0.1111111111111111,
              "#46039f"
             ],
             [
              0.2222222222222222,
              "#7201a8"
             ],
             [
              0.3333333333333333,
              "#9c179e"
             ],
             [
              0.4444444444444444,
              "#bd3786"
             ],
             [
              0.5555555555555556,
              "#d8576b"
             ],
             [
              0.6666666666666666,
              "#ed7953"
             ],
             [
              0.7777777777777778,
              "#fb9f3a"
             ],
             [
              0.8888888888888888,
              "#fdca26"
             ],
             [
              1,
              "#f0f921"
             ]
            ],
            "type": "histogram2d"
           }
          ],
          "histogram2dcontour": [
           {
            "colorbar": {
             "outlinewidth": 0,
             "ticks": ""
            },
            "colorscale": [
             [
              0,
              "#0d0887"
             ],
             [
              0.1111111111111111,
              "#46039f"
             ],
             [
              0.2222222222222222,
              "#7201a8"
             ],
             [
              0.3333333333333333,
              "#9c179e"
             ],
             [
              0.4444444444444444,
              "#bd3786"
             ],
             [
              0.5555555555555556,
              "#d8576b"
             ],
             [
              0.6666666666666666,
              "#ed7953"
             ],
             [
              0.7777777777777778,
              "#fb9f3a"
             ],
             [
              0.8888888888888888,
              "#fdca26"
             ],
             [
              1,
              "#f0f921"
             ]
            ],
            "type": "histogram2dcontour"
           }
          ],
          "mesh3d": [
           {
            "colorbar": {
             "outlinewidth": 0,
             "ticks": ""
            },
            "type": "mesh3d"
           }
          ],
          "parcoords": [
           {
            "line": {
             "colorbar": {
              "outlinewidth": 0,
              "ticks": ""
             }
            },
            "type": "parcoords"
           }
          ],
          "pie": [
           {
            "automargin": true,
            "type": "pie"
           }
          ],
          "scatter": [
           {
            "fillpattern": {
             "fillmode": "overlay",
             "size": 10,
             "solidity": 0.2
            },
            "type": "scatter"
           }
          ],
          "scatter3d": [
           {
            "line": {
             "colorbar": {
              "outlinewidth": 0,
              "ticks": ""
             }
            },
            "marker": {
             "colorbar": {
              "outlinewidth": 0,
              "ticks": ""
             }
            },
            "type": "scatter3d"
           }
          ],
          "scattercarpet": [
           {
            "marker": {
             "colorbar": {
              "outlinewidth": 0,
              "ticks": ""
             }
            },
            "type": "scattercarpet"
           }
          ],
          "scattergeo": [
           {
            "marker": {
             "colorbar": {
              "outlinewidth": 0,
              "ticks": ""
             }
            },
            "type": "scattergeo"
           }
          ],
          "scattergl": [
           {
            "marker": {
             "colorbar": {
              "outlinewidth": 0,
              "ticks": ""
             }
            },
            "type": "scattergl"
           }
          ],
          "scattermap": [
           {
            "marker": {
             "colorbar": {
              "outlinewidth": 0,
              "ticks": ""
             }
            },
            "type": "scattermap"
           }
          ],
          "scattermapbox": [
           {
            "marker": {
             "colorbar": {
              "outlinewidth": 0,
              "ticks": ""
             }
            },
            "type": "scattermapbox"
           }
          ],
          "scatterpolar": [
           {
            "marker": {
             "colorbar": {
              "outlinewidth": 0,
              "ticks": ""
             }
            },
            "type": "scatterpolar"
           }
          ],
          "scatterpolargl": [
           {
            "marker": {
             "colorbar": {
              "outlinewidth": 0,
              "ticks": ""
             }
            },
            "type": "scatterpolargl"
           }
          ],
          "scatterternary": [
           {
            "marker": {
             "colorbar": {
              "outlinewidth": 0,
              "ticks": ""
             }
            },
            "type": "scatterternary"
           }
          ],
          "surface": [
           {
            "colorbar": {
             "outlinewidth": 0,
             "ticks": ""
            },
            "colorscale": [
             [
              0,
              "#0d0887"
             ],
             [
              0.1111111111111111,
              "#46039f"
             ],
             [
              0.2222222222222222,
              "#7201a8"
             ],
             [
              0.3333333333333333,
              "#9c179e"
             ],
             [
              0.4444444444444444,
              "#bd3786"
             ],
             [
              0.5555555555555556,
              "#d8576b"
             ],
             [
              0.6666666666666666,
              "#ed7953"
             ],
             [
              0.7777777777777778,
              "#fb9f3a"
             ],
             [
              0.8888888888888888,
              "#fdca26"
             ],
             [
              1,
              "#f0f921"
             ]
            ],
            "type": "surface"
           }
          ],
          "table": [
           {
            "cells": {
             "fill": {
              "color": "#EBF0F8"
             },
             "line": {
              "color": "white"
             }
            },
            "header": {
             "fill": {
              "color": "#C8D4E3"
             },
             "line": {
              "color": "white"
             }
            },
            "type": "table"
           }
          ]
         },
         "layout": {
          "annotationdefaults": {
           "arrowcolor": "#2a3f5f",
           "arrowhead": 0,
           "arrowwidth": 1
          },
          "autotypenumbers": "strict",
          "coloraxis": {
           "colorbar": {
            "outlinewidth": 0,
            "ticks": ""
           }
          },
          "colorscale": {
           "diverging": [
            [
             0,
             "#8e0152"
            ],
            [
             0.1,
             "#c51b7d"
            ],
            [
             0.2,
             "#de77ae"
            ],
            [
             0.3,
             "#f1b6da"
            ],
            [
             0.4,
             "#fde0ef"
            ],
            [
             0.5,
             "#f7f7f7"
            ],
            [
             0.6,
             "#e6f5d0"
            ],
            [
             0.7,
             "#b8e186"
            ],
            [
             0.8,
             "#7fbc41"
            ],
            [
             0.9,
             "#4d9221"
            ],
            [
             1,
             "#276419"
            ]
           ],
           "sequential": [
            [
             0,
             "#0d0887"
            ],
            [
             0.1111111111111111,
             "#46039f"
            ],
            [
             0.2222222222222222,
             "#7201a8"
            ],
            [
             0.3333333333333333,
             "#9c179e"
            ],
            [
             0.4444444444444444,
             "#bd3786"
            ],
            [
             0.5555555555555556,
             "#d8576b"
            ],
            [
             0.6666666666666666,
             "#ed7953"
            ],
            [
             0.7777777777777778,
             "#fb9f3a"
            ],
            [
             0.8888888888888888,
             "#fdca26"
            ],
            [
             1,
             "#f0f921"
            ]
           ],
           "sequentialminus": [
            [
             0,
             "#0d0887"
            ],
            [
             0.1111111111111111,
             "#46039f"
            ],
            [
             0.2222222222222222,
             "#7201a8"
            ],
            [
             0.3333333333333333,
             "#9c179e"
            ],
            [
             0.4444444444444444,
             "#bd3786"
            ],
            [
             0.5555555555555556,
             "#d8576b"
            ],
            [
             0.6666666666666666,
             "#ed7953"
            ],
            [
             0.7777777777777778,
             "#fb9f3a"
            ],
            [
             0.8888888888888888,
             "#fdca26"
            ],
            [
             1,
             "#f0f921"
            ]
           ]
          },
          "colorway": [
           "#636efa",
           "#EF553B",
           "#00cc96",
           "#ab63fa",
           "#FFA15A",
           "#19d3f3",
           "#FF6692",
           "#B6E880",
           "#FF97FF",
           "#FECB52"
          ],
          "font": {
           "color": "#2a3f5f"
          },
          "geo": {
           "bgcolor": "white",
           "lakecolor": "white",
           "landcolor": "#E5ECF6",
           "showlakes": true,
           "showland": true,
           "subunitcolor": "white"
          },
          "hoverlabel": {
           "align": "left"
          },
          "hovermode": "closest",
          "mapbox": {
           "style": "light"
          },
          "paper_bgcolor": "white",
          "plot_bgcolor": "#E5ECF6",
          "polar": {
           "angularaxis": {
            "gridcolor": "white",
            "linecolor": "white",
            "ticks": ""
           },
           "bgcolor": "#E5ECF6",
           "radialaxis": {
            "gridcolor": "white",
            "linecolor": "white",
            "ticks": ""
           }
          },
          "scene": {
           "xaxis": {
            "backgroundcolor": "#E5ECF6",
            "gridcolor": "white",
            "gridwidth": 2,
            "linecolor": "white",
            "showbackground": true,
            "ticks": "",
            "zerolinecolor": "white"
           },
           "yaxis": {
            "backgroundcolor": "#E5ECF6",
            "gridcolor": "white",
            "gridwidth": 2,
            "linecolor": "white",
            "showbackground": true,
            "ticks": "",
            "zerolinecolor": "white"
           },
           "zaxis": {
            "backgroundcolor": "#E5ECF6",
            "gridcolor": "white",
            "gridwidth": 2,
            "linecolor": "white",
            "showbackground": true,
            "ticks": "",
            "zerolinecolor": "white"
           }
          },
          "shapedefaults": {
           "line": {
            "color": "#2a3f5f"
           }
          },
          "ternary": {
           "aaxis": {
            "gridcolor": "white",
            "linecolor": "white",
            "ticks": ""
           },
           "baxis": {
            "gridcolor": "white",
            "linecolor": "white",
            "ticks": ""
           },
           "bgcolor": "#E5ECF6",
           "caxis": {
            "gridcolor": "white",
            "linecolor": "white",
            "ticks": ""
           }
          },
          "title": {
           "x": 0.05
          },
          "xaxis": {
           "automargin": true,
           "gridcolor": "white",
           "linecolor": "white",
           "ticks": "",
           "title": {
            "standoff": 15
           },
           "zerolinecolor": "white",
           "zerolinewidth": 2
          },
          "yaxis": {
           "automargin": true,
           "gridcolor": "white",
           "linecolor": "white",
           "ticks": "",
           "title": {
            "standoff": 15
           },
           "zerolinecolor": "white",
           "zerolinewidth": 2
          }
         }
        },
        "xaxis": {
         "anchor": "y",
         "domain": [
          0,
          1
         ],
         "title": {
          "text": "x"
         }
        },
        "yaxis": {
         "anchor": "x",
         "domain": [
          0,
          1
         ],
         "title": {
          "text": "y"
         }
        }
       }
      },
      "image/png": "[encoded data removed]"
     },
     "metadata": {},
     "output_type": "display_data"
    }
   ],
   "source": [
    "# 5. Generate a bar plot using Plotly.\n",
    "import plotly.express as px\n",
    "df = pd.DataFrame({'x': ['A', 'B', 'C', 'D'], 'y': [10, 20, 50, 30]})\n",
    "fig = px.bar(df, x='x', y='y')\n",
    "fig.show()"
   ]
  },
  {
   "cell_type": "code",
   "execution_count": 19,
   "id": "b8be05b4-5704-4294-982c-707baaa28734",
   "metadata": {},
   "outputs": [
    {
     "data": {
      "text/html": [
       "<div>\n",
       "<style scoped>\n",
       "    .dataframe tbody tr th:only-of-type {\n",
       "        vertical-align: middle;\n",
       "    }\n",
       "\n",
       "    .dataframe tbody tr th {\n",
       "        vertical-align: top;\n",
       "    }\n",
       "\n",
       "    .dataframe thead th {\n",
       "        text-align: right;\n",
       "    }\n",
       "</style>\n",
       "<table border=\"1\" class=\"dataframe\">\n",
       "  <thead>\n",
       "    <tr style=\"text-align: right;\">\n",
       "      <th></th>\n",
       "      <th>product_name</th>\n",
       "      <th>product_id</th>\n",
       "      <th>cost_price</th>\n",
       "      <th>sell_price</th>\n",
       "      <th>profit</th>\n",
       "    </tr>\n",
       "  </thead>\n",
       "  <tbody>\n",
       "    <tr>\n",
       "      <th>0</th>\n",
       "      <td>ab</td>\n",
       "      <td>5</td>\n",
       "      <td>20</td>\n",
       "      <td>30</td>\n",
       "      <td>10</td>\n",
       "    </tr>\n",
       "    <tr>\n",
       "      <th>1</th>\n",
       "      <td>ac</td>\n",
       "      <td>4</td>\n",
       "      <td>30</td>\n",
       "      <td>35</td>\n",
       "      <td>5</td>\n",
       "    </tr>\n",
       "    <tr>\n",
       "      <th>2</th>\n",
       "      <td>ad</td>\n",
       "      <td>3</td>\n",
       "      <td>45</td>\n",
       "      <td>50</td>\n",
       "      <td>5</td>\n",
       "    </tr>\n",
       "    <tr>\n",
       "      <th>3</th>\n",
       "      <td>ae</td>\n",
       "      <td>2</td>\n",
       "      <td>15</td>\n",
       "      <td>18</td>\n",
       "      <td>3</td>\n",
       "    </tr>\n",
       "    <tr>\n",
       "      <th>4</th>\n",
       "      <td>af</td>\n",
       "      <td>1</td>\n",
       "      <td>16</td>\n",
       "      <td>19</td>\n",
       "      <td>3</td>\n",
       "    </tr>\n",
       "  </tbody>\n",
       "</table>\n",
       "</div>"
      ],
      "text/plain": [
       "  product_name  product_id  cost_price  sell_price  profit\n",
       "0           ab           5          20          30      10\n",
       "1           ac           4          30          35       5\n",
       "2           ad           3          45          50       5\n",
       "3           ae           2          15          18       3\n",
       "4           af           1          16          19       3"
      ]
     },
     "execution_count": 19,
     "metadata": {},
     "output_type": "execute_result"
    }
   ],
   "source": [
    "# 6. Create a DataFrame and add a new column based on an existing column.\n",
    "df = pd.DataFrame({\n",
    "    'product_name': [\"ab\", \"ac\", \"ad\", \"ae\", \"af\"],\n",
    "    'product_id'  : [5, 4, 3, 2, 1],\n",
    "    'cost_price'  : [20, 30, 45, 15, 16],\n",
    "    'sell_price'  : [30, 35, 50, 18, 19]\n",
    "})\n",
    "df['profit'] = df['sell_price'] - df['cost_price']\n",
    "df"
   ]
  },
  {
   "cell_type": "code",
   "execution_count": 22,
   "id": "9d531f09-8a94-4261-ba55-041d156ee87f",
   "metadata": {},
   "outputs": [
    {
     "name": "stdout",
     "output_type": "stream",
     "text": [
      "[ 4 10 18]\n"
     ]
    }
   ],
   "source": [
    "# 7. Write a program to perform element-wise multiplication of two NumPy arrays.\n",
    "import numpy as np\n",
    "a = np.array([1, 2, 3])\n",
    "b = np.array([4, 5, 6])\n",
    "result = a * b\n",
    "print(result)"
   ]
  },
  {
   "cell_type": "code",
   "execution_count": 23,
   "id": "97831047-d138-4e2b-948a-6cf5ab780227",
   "metadata": {},
   "outputs": [
    {
     "data": {
      "image/png": "[encoded data removed]",
      "text/plain": [
       "<Figure size 640x480 with 1 Axes>"
      ]
     },
     "metadata": {},
     "output_type": "display_data"
    }
   ],
   "source": [
    "# 8. Create a line plot with multiple lines using Matplotlib.\n",
    "import matplotlib.pyplot as plt\n",
    "x = [1, 2, 3, 4]\n",
    "plt.plot(x, [1, 4, 9, 16], label='x squared')\n",
    "plt.plot(x, [1, 8, 27, 64], label='x cubed')\n",
    "plt.legend()\n",
    "plt.show()\n"
   ]
  },
  {
   "cell_type": "code",
   "execution_count": 27,
   "id": "4f01f4c8-2925-4c9a-be2f-a07d969b553c",
   "metadata": {},
   "outputs": [
    {
     "name": "stdout",
     "output_type": "stream",
     "text": [
      "   Name  Age  Score\n",
      "1  shiv   35     90\n",
      "4   Eva   40     87\n"
     ]
    }
   ],
   "source": [
    "# 9. Generate a Pandas DataFrame and filter rows where a column value is greater than a threshold.\n",
    "import pandas as pd\n",
    "\n",
    "data = {\n",
    "    'Name': ['sharan', 'shiv', 'aryan', 'vishal', 'Eva'],\n",
    "    'Age': [20, 35, 30, 28, 40],\n",
    "    'Score': [85, 90, 88, 92, 87]\n",
    "}\n",
    "\n",
    "df = pd.DataFrame(data)\n",
    "\n",
    "threshold = 30\n",
    "\n",
    "filtered_df = df[df['Age'] > threshold]\n",
    "\n",
    "print(filtered_df)"
   ]
  },
  {
   "cell_type": "code",
   "execution_count": 32,
   "id": "b89054bd-89ee-4283-8786-074469bf1fb2",
   "metadata": {},
   "outputs": [
    {
     "data": {
      "image/png": "[encoded data removed]",
      "text/plain": [
       "<Figure size 640x480 with 1 Axes>"
      ]
     },
     "metadata": {},
     "output_type": "display_data"
    }
   ],
   "source": [
    "#10. Create a histogram using Seaborn to visualize a distribution.\n",
    "import seaborn as sns\n",
    "data = {\n",
    "    'Name': ['sharan', 'shiv', 'aryan', 'vishal', 'Eva',\"ab\", \"ac\", \"ad\", \"ae\", \"af\",\"a\",\"b\",\"c\",\"d\",\"e\"],\n",
    "    'Age': [20, 35, 30, 28, 20,20, 30,20, 30, 30, 28, 40, 30, 28, 40],\n",
    "    'Grade': [\"a\",\"c\",\"d\",\"a\",\"a\",\"b\",\"c\",\"a\",\"b\",\"c\"]\n",
    "}\n",
    "\n",
    "sns.histplot(data['Grade'])\n",
    "plt.show()\n"
   ]
  },
  {
   "cell_type": "code",
   "execution_count": 37,
   "id": "bf71e9d7-448e-4f5a-8505-4f73ce428289",
   "metadata": {},
   "outputs": [
    {
     "name": "stdout",
     "output_type": "stream",
     "text": [
      "[[ 4  4]\n",
      " [10  8]]\n"
     ]
    }
   ],
   "source": [
    "# 11. Perform matrix multiplication using NumPy.\n",
    "import numpy as np\n",
    "a = np.array([[1, 2], [3, 4]])\n",
    "b = np.array([[2, 0], [1, 2]])\n",
    "result = np.dot(a, b)\n",
    "print(result)"
   ]
  },
  {
   "cell_type": "code",
   "execution_count": 42,
   "id": "1e7727a6-a7a3-4a95-89a7-5842a861bc63",
   "metadata": {},
   "outputs": [
    {
     "data": {
      "text/html": [
       "<div>\n",
       "<style scoped>\n",
       "    .dataframe tbody tr th:only-of-type {\n",
       "        vertical-align: middle;\n",
       "    }\n",
       "\n",
       "    .dataframe tbody tr th {\n",
       "        vertical-align: top;\n",
       "    }\n",
       "\n",
       "    .dataframe thead th {\n",
       "        text-align: right;\n",
       "    }\n",
       "</style>\n",
       "<table border=\"1\" class=\"dataframe\">\n",
       "  <thead>\n",
       "    <tr style=\"text-align: right;\">\n",
       "      <th></th>\n",
       "      <th>Rk</th>\n",
       "      <th>Player</th>\n",
       "      <th>Pos</th>\n",
       "      <th>Age</th>\n",
       "      <th>Tm</th>\n",
       "      <th>G</th>\n",
       "      <th>GS</th>\n",
       "      <th>MP</th>\n",
       "      <th>FG</th>\n",
       "      <th>FGA</th>\n",
       "      <th>...</th>\n",
       "      <th>FT%</th>\n",
       "      <th>ORB</th>\n",
       "      <th>DRB</th>\n",
       "      <th>TRB</th>\n",
       "      <th>AST</th>\n",
       "      <th>STL</th>\n",
       "      <th>BLK</th>\n",
       "      <th>TOV</th>\n",
       "      <th>PF</th>\n",
       "      <th>PTS</th>\n",
       "    </tr>\n",
       "  </thead>\n",
       "  <tbody>\n",
       "    <tr>\n",
       "      <th>0</th>\n",
       "      <td>1</td>\n",
       "      <td>Quincy Acy</td>\n",
       "      <td>PF</td>\n",
       "      <td>24</td>\n",
       "      <td>NYK</td>\n",
       "      <td>68</td>\n",
       "      <td>22</td>\n",
       "      <td>1287</td>\n",
       "      <td>152</td>\n",
       "      <td>331</td>\n",
       "      <td>...</td>\n",
       "      <td>.784</td>\n",
       "      <td>79</td>\n",
       "      <td>222</td>\n",
       "      <td>301</td>\n",
       "      <td>68</td>\n",
       "      <td>27</td>\n",
       "      <td>22</td>\n",
       "      <td>60</td>\n",
       "      <td>147</td>\n",
       "      <td>398</td>\n",
       "    </tr>\n",
       "    <tr>\n",
       "      <th>1</th>\n",
       "      <td>2</td>\n",
       "      <td>Jordan Adams</td>\n",
       "      <td>SG</td>\n",
       "      <td>20</td>\n",
       "      <td>MEM</td>\n",
       "      <td>30</td>\n",
       "      <td>0</td>\n",
       "      <td>248</td>\n",
       "      <td>35</td>\n",
       "      <td>86</td>\n",
       "      <td>...</td>\n",
       "      <td>.609</td>\n",
       "      <td>9</td>\n",
       "      <td>19</td>\n",
       "      <td>28</td>\n",
       "      <td>16</td>\n",
       "      <td>16</td>\n",
       "      <td>7</td>\n",
       "      <td>14</td>\n",
       "      <td>24</td>\n",
       "      <td>94</td>\n",
       "    </tr>\n",
       "    <tr>\n",
       "      <th>2</th>\n",
       "      <td>3</td>\n",
       "      <td>Steven Adams</td>\n",
       "      <td>C</td>\n",
       "      <td>21</td>\n",
       "      <td>OKC</td>\n",
       "      <td>70</td>\n",
       "      <td>67</td>\n",
       "      <td>1771</td>\n",
       "      <td>217</td>\n",
       "      <td>399</td>\n",
       "      <td>...</td>\n",
       "      <td>.502</td>\n",
       "      <td>199</td>\n",
       "      <td>324</td>\n",
       "      <td>523</td>\n",
       "      <td>66</td>\n",
       "      <td>38</td>\n",
       "      <td>86</td>\n",
       "      <td>99</td>\n",
       "      <td>222</td>\n",
       "      <td>537</td>\n",
       "    </tr>\n",
       "    <tr>\n",
       "      <th>3</th>\n",
       "      <td>4</td>\n",
       "      <td>Jeff Adrien</td>\n",
       "      <td>PF</td>\n",
       "      <td>28</td>\n",
       "      <td>MIN</td>\n",
       "      <td>17</td>\n",
       "      <td>0</td>\n",
       "      <td>215</td>\n",
       "      <td>19</td>\n",
       "      <td>44</td>\n",
       "      <td>...</td>\n",
       "      <td>.579</td>\n",
       "      <td>23</td>\n",
       "      <td>54</td>\n",
       "      <td>77</td>\n",
       "      <td>15</td>\n",
       "      <td>4</td>\n",
       "      <td>9</td>\n",
       "      <td>9</td>\n",
       "      <td>30</td>\n",
       "      <td>60</td>\n",
       "    </tr>\n",
       "    <tr>\n",
       "      <th>4</th>\n",
       "      <td>5</td>\n",
       "      <td>Arron Afflalo</td>\n",
       "      <td>SG</td>\n",
       "      <td>29</td>\n",
       "      <td>TOT</td>\n",
       "      <td>78</td>\n",
       "      <td>72</td>\n",
       "      <td>2502</td>\n",
       "      <td>375</td>\n",
       "      <td>884</td>\n",
       "      <td>...</td>\n",
       "      <td>.843</td>\n",
       "      <td>27</td>\n",
       "      <td>220</td>\n",
       "      <td>247</td>\n",
       "      <td>129</td>\n",
       "      <td>41</td>\n",
       "      <td>7</td>\n",
       "      <td>116</td>\n",
       "      <td>167</td>\n",
       "      <td>1035</td>\n",
       "    </tr>\n",
       "  </tbody>\n",
       "</table>\n",
       "<p>5 rows × 30 columns</p>\n",
       "</div>"
      ],
      "text/plain": [
       "  Rk         Player Pos Age   Tm   G  GS    MP   FG  FGA  ...   FT%  ORB  DRB  \\\n",
       "0  1     Quincy Acy  PF  24  NYK  68  22  1287  152  331  ...  .784   79  222   \n",
       "1  2   Jordan Adams  SG  20  MEM  30   0   248   35   86  ...  .609    9   19   \n",
       "2  3   Steven Adams   C  21  OKC  70  67  1771  217  399  ...  .502  199  324   \n",
       "3  4    Jeff Adrien  PF  28  MIN  17   0   215   19   44  ...  .579   23   54   \n",
       "4  5  Arron Afflalo  SG  29  TOT  78  72  2502  375  884  ...  .843   27  220   \n",
       "\n",
       "   TRB  AST STL BLK  TOV   PF   PTS  \n",
       "0  301   68  27  22   60  147   398  \n",
       "1   28   16  16   7   14   24    94  \n",
       "2  523   66  38  86   99  222   537  \n",
       "3   77   15   4   9    9   30    60  \n",
       "4  247  129  41   7  116  167  1035  \n",
       "\n",
       "[5 rows x 30 columns]"
      ]
     },
     "execution_count": 42,
     "metadata": {},
     "output_type": "execute_result"
    }
   ],
   "source": [
    "# 12. Use Pandas to load a CSV file and display its first 5 rows.\n",
    "import pandas as pd\n",
    "df = pd.read_csv('players.csv')\n",
    "df.head(5) # also .head() by default give 5\n"
   ]
  },
  {
   "cell_type": "code",
   "execution_count": 45,
   "id": "37cf5151-981e-428f-888e-2d6f6f0f6bea",
   "metadata": {
    "scrolled": true
   },
   "outputs": [
    {
     "data": {
      "application/vnd.plotly.v1+json": {
       "config": {
        "plotlyServerURL": "https://plot.ly"
       },
       "data": [
        {
         "hovertemplate": "x=%{x}<br>y=%{y}<br>z=%{z}<extra></extra>",
         "legendgroup": "",
         "marker": {
          "color": "#636efa",
          "symbol": "circle"
         },
         "mode": "markers",
         "name": "",
         "scene": "scene",
         "showlegend": false,
         "type": "scatter3d",
         "x": {
          "bdata": "AQoDBAo=",
          "dtype": "i1"
         },
         "y": {
          "bdata": "AQgFAwQ=",
          "dtype": "i1"
         },
         "z": {
          "bdata": "BgoDBQY=",
          "dtype": "i1"
         }
        }
       ],
       "layout": {
        "legend": {
         "tracegroupgap": 0
        },
        "margin": {
         "t": 60
        },
        "scene": {
         "domain": {
          "x": [
           0,
           1
          ],
          "y": [
           0,
           1
          ]
         },
         "xaxis": {
          "title": {
           "text": "x"
          }
         },
         "yaxis": {
          "title": {
           "text": "y"
          }
         },
         "zaxis": {
          "title": {
           "text": "z"
          }
         }
        },
        "template": {
         "data": {
          "bar": [
           {
            "error_x": {
             "color": "#2a3f5f"
            },
            "error_y": {
             "color": "#2a3f5f"
            },
            "marker": {
             "line": {
              "color": "#E5ECF6",
              "width": 0.5
             },
             "pattern": {
              "fillmode": "overlay",
              "size": 10,
              "solidity": 0.2
             }
            },
            "type": "bar"
           }
          ],
          "barpolar": [
           {
            "marker": {
             "line": {
              "color": "#E5ECF6",
              "width": 0.5
             },
             "pattern": {
              "fillmode": "overlay",
              "size": 10,
              "solidity": 0.2
             }
            },
            "type": "barpolar"
           }
          ],
          "carpet": [
           {
            "aaxis": {
             "endlinecolor": "#2a3f5f",
             "gridcolor": "white",
             "linecolor": "white",
             "minorgridcolor": "white",
             "startlinecolor": "#2a3f5f"
            },
            "baxis": {
             "endlinecolor": "#2a3f5f",
             "gridcolor": "white",
             "linecolor": "white",
             "minorgridcolor": "white",
             "startlinecolor": "#2a3f5f"
            },
            "type": "carpet"
           }
          ],
          "choropleth": [
           {
            "colorbar": {
             "outlinewidth": 0,
             "ticks": ""
            },
            "type": "choropleth"
           }
          ],
          "contour": [
           {
            "colorbar": {
             "outlinewidth": 0,
             "ticks": ""
            },
            "colorscale": [
             [
              0,
              "#0d0887"
             ],
             [
              0.1111111111111111,
              "#46039f"
             ],
             [
              0.2222222222222222,
              "#7201a8"
             ],
             [
              0.3333333333333333,
              "#9c179e"
             ],
             [
              0.4444444444444444,
              "#bd3786"
             ],
             [
              0.5555555555555556,
              "#d8576b"
             ],
             [
              0.6666666666666666,
              "#ed7953"
             ],
             [
              0.7777777777777778,
              "#fb9f3a"
             ],
             [
              0.8888888888888888,
              "#fdca26"
             ],
             [
              1,
              "#f0f921"
             ]
            ],
            "type": "contour"
           }
          ],
          "contourcarpet": [
           {
            "colorbar": {
             "outlinewidth": 0,
             "ticks": ""
            },
            "type": "contourcarpet"
           }
          ],
          "heatmap": [
           {
            "colorbar": {
             "outlinewidth": 0,
             "ticks": ""
            },
            "colorscale": [
             [
              0,
              "#0d0887"
             ],
             [
              0.1111111111111111,
              "#46039f"
             ],
             [
              0.2222222222222222,
              "#7201a8"
             ],
             [
              0.3333333333333333,
              "#9c179e"
             ],
             [
              0.4444444444444444,
              "#bd3786"
             ],
             [
              0.5555555555555556,
              "#d8576b"
             ],
             [
              0.6666666666666666,
              "#ed7953"
             ],
             [
              0.7777777777777778,
              "#fb9f3a"
             ],
             [
              0.8888888888888888,
              "#fdca26"
             ],
             [
              1,
              "#f0f921"
             ]
            ],
            "type": "heatmap"
           }
          ],
          "histogram": [
           {
            "marker": {
             "pattern": {
              "fillmode": "overlay",
              "size": 10,
              "solidity": 0.2
             }
            },
            "type": "histogram"
           }
          ],
          "histogram2d": [
           {
            "colorbar": {
             "outlinewidth": 0,
             "ticks": ""
            },
            "colorscale": [
             [
              0,
              "#0d0887"
             ],
             [
              0.1111111111111111,
              "#46039f"
             ],
             [
              0.2222222222222222,
              "#7201a8"
             ],
             [
              0.3333333333333333,
              "#9c179e"
             ],
             [
              0.4444444444444444,
              "#bd3786"
             ],
             [
              0.5555555555555556,
              "#d8576b"
             ],
             [
              0.6666666666666666,
              "#ed7953"
             ],
             [
              0.7777777777777778,
              "#fb9f3a"
             ],
             [
              0.8888888888888888,
              "#fdca26"
             ],
             [
              1,
              "#f0f921"
             ]
            ],
            "type": "histogram2d"
           }
          ],
          "histogram2dcontour": [
           {
            "colorbar": {
             "outlinewidth": 0,
             "ticks": ""
            },
            "colorscale": [
             [
              0,
              "#0d0887"
             ],
             [
              0.1111111111111111,
              "#46039f"
             ],
             [
              0.2222222222222222,
              "#7201a8"
             ],
             [
              0.3333333333333333,
              "#9c179e"
             ],
             [
              0.4444444444444444,
              "#bd3786"
             ],
             [
              0.5555555555555556,
              "#d8576b"
             ],
             [
              0.6666666666666666,
              "#ed7953"
             ],
             [
              0.7777777777777778,
              "#fb9f3a"
             ],
             [
              0.8888888888888888,
              "#fdca26"
             ],
             [
              1,
              "#f0f921"
             ]
            ],
            "type": "histogram2dcontour"
           }
          ],
          "mesh3d": [
           {
            "colorbar": {
             "outlinewidth": 0,
             "ticks": ""
            },
            "type": "mesh3d"
           }
          ],
          "parcoords": [
           {
            "line": {
             "colorbar": {
              "outlinewidth": 0,
              "ticks": ""
             }
            },
            "type": "parcoords"
           }
          ],
          "pie": [
           {
            "automargin": true,
            "type": "pie"
           }
          ],
          "scatter": [
           {
            "fillpattern": {
             "fillmode": "overlay",
             "size": 10,
             "solidity": 0.2
            },
            "type": "scatter"
           }
          ],
          "scatter3d": [
           {
            "line": {
             "colorbar": {
              "outlinewidth": 0,
              "ticks": ""
             }
            },
            "marker": {
             "colorbar": {
              "outlinewidth": 0,
              "ticks": ""
             }
            },
            "type": "scatter3d"
           }
          ],
          "scattercarpet": [
           {
            "marker": {
             "colorbar": {
              "outlinewidth": 0,
              "ticks": ""
             }
            },
            "type": "scattercarpet"
           }
          ],
          "scattergeo": [
           {
            "marker": {
             "colorbar": {
              "outlinewidth": 0,
              "ticks": ""
             }
            },
            "type": "scattergeo"
           }
          ],
          "scattergl": [
           {
            "marker": {
             "colorbar": {
              "outlinewidth": 0,
              "ticks": ""
             }
            },
            "type": "scattergl"
           }
          ],
          "scattermap": [
           {
            "marker": {
             "colorbar": {
              "outlinewidth": 0,
              "ticks": ""
             }
            },
            "type": "scattermap"
           }
          ],
          "scattermapbox": [
           {
            "marker": {
             "colorbar": {
              "outlinewidth": 0,
              "ticks": ""
             }
            },
            "type": "scattermapbox"
           }
          ],
          "scatterpolar": [
           {
            "marker": {
             "colorbar": {
              "outlinewidth": 0,
              "ticks": ""
             }
            },
            "type": "scatterpolar"
           }
          ],
          "scatterpolargl": [
           {
            "marker": {
             "colorbar": {
              "outlinewidth": 0,
              "ticks": ""
             }
            },
            "type": "scatterpolargl"
           }
          ],
          "scatterternary": [
           {
            "marker": {
             "colorbar": {
              "outlinewidth": 0,
              "ticks": ""
             }
            },
            "type": "scatterternary"
           }
          ],
          "surface": [
           {
            "colorbar": {
             "outlinewidth": 0,
             "ticks": ""
            },
            "colorscale": [
             [
              0,
              "#0d0887"
             ],
             [
              0.1111111111111111,
              "#46039f"
             ],
             [
              0.2222222222222222,
              "#7201a8"
             ],
             [
              0.3333333333333333,
              "#9c179e"
             ],
             [
              0.4444444444444444,
              "#bd3786"
             ],
             [
              0.5555555555555556,
              "#d8576b"
             ],
             [
              0.6666666666666666,
              "#ed7953"
             ],
             [
              0.7777777777777778,
              "#fb9f3a"
             ],
             [
              0.8888888888888888,
              "#fdca26"
             ],
             [
              1,
              "#f0f921"
             ]
            ],
            "type": "surface"
           }
          ],
          "table": [
           {
            "cells": {
             "fill": {
              "color": "#EBF0F8"
             },
             "line": {
              "color": "white"
             }
            },
            "header": {
             "fill": {
              "color": "#C8D4E3"
             },
             "line": {
              "color": "white"
             }
            },
            "type": "table"
           }
          ]
         },
         "layout": {
          "annotationdefaults": {
           "arrowcolor": "#2a3f5f",
           "arrowhead": 0,
           "arrowwidth": 1
          },
          "autotypenumbers": "strict",
          "coloraxis": {
           "colorbar": {
            "outlinewidth": 0,
            "ticks": ""
           }
          },
          "colorscale": {
           "diverging": [
            [
             0,
             "#8e0152"
            ],
            [
             0.1,
             "#c51b7d"
            ],
            [
             0.2,
             "#de77ae"
            ],
            [
             0.3,
             "#f1b6da"
            ],
            [
             0.4,
             "#fde0ef"
            ],
            [
             0.5,
             "#f7f7f7"
            ],
            [
             0.6,
             "#e6f5d0"
            ],
            [
             0.7,
             "#b8e186"
            ],
            [
             0.8,
             "#7fbc41"
            ],
            [
             0.9,
             "#4d9221"
            ],
            [
             1,
             "#276419"
            ]
           ],
           "sequential": [
            [
             0,
             "#0d0887"
            ],
            [
             0.1111111111111111,
             "#46039f"
            ],
            [
             0.2222222222222222,
             "#7201a8"
            ],
            [
             0.3333333333333333,
             "#9c179e"
            ],
            [
             0.4444444444444444,
             "#bd3786"
            ],
            [
             0.5555555555555556,
             "#d8576b"
            ],
            [
             0.6666666666666666,
             "#ed7953"
            ],
            [
             0.7777777777777778,
             "#fb9f3a"
            ],
            [
             0.8888888888888888,
             "#fdca26"
            ],
            [
             1,
             "#f0f921"
            ]
           ],
           "sequentialminus": [
            [
             0,
             "#0d0887"
            ],
            [
             0.1111111111111111,
             "#46039f"
            ],
            [
             0.2222222222222222,
             "#7201a8"
            ],
            [
             0.3333333333333333,
             "#9c179e"
            ],
            [
             0.4444444444444444,
             "#bd3786"
            ],
            [
             0.5555555555555556,
             "#d8576b"
            ],
            [
             0.6666666666666666,
             "#ed7953"
            ],
            [
             0.7777777777777778,
             "#fb9f3a"
            ],
            [
             0.8888888888888888,
             "#fdca26"
            ],
            [
             1,
             "#f0f921"
            ]
           ]
          },
          "colorway": [
           "#636efa",
           "#EF553B",
           "#00cc96",
           "#ab63fa",
           "#FFA15A",
           "#19d3f3",
           "#FF6692",
           "#B6E880",
           "#FF97FF",
           "#FECB52"
          ],
          "font": {
           "color": "#2a3f5f"
          },
          "geo": {
           "bgcolor": "white",
           "lakecolor": "white",
           "landcolor": "#E5ECF6",
           "showlakes": true,
           "showland": true,
           "subunitcolor": "white"
          },
          "hoverlabel": {
           "align": "left"
          },
          "hovermode": "closest",
          "mapbox": {
           "style": "light"
          },
          "paper_bgcolor": "white",
          "plot_bgcolor": "#E5ECF6",
          "polar": {
           "angularaxis": {
            "gridcolor": "white",
            "linecolor": "white",
            "ticks": ""
           },
           "bgcolor": "#E5ECF6",
           "radialaxis": {
            "gridcolor": "white",
            "linecolor": "white",
            "ticks": ""
           }
          },
          "scene": {
           "xaxis": {
            "backgroundcolor": "#E5ECF6",
            "gridcolor": "white",
            "gridwidth": 2,
            "linecolor": "white",
            "showbackground": true,
            "ticks": "",
            "zerolinecolor": "white"
           },
           "yaxis": {
            "backgroundcolor": "#E5ECF6",
            "gridcolor": "white",
            "gridwidth": 2,
            "linecolor": "white",
            "showbackground": true,
            "ticks": "",
            "zerolinecolor": "white"
           },
           "zaxis": {
            "backgroundcolor": "#E5ECF6",
            "gridcolor": "white",
            "gridwidth": 2,
            "linecolor": "white",
            "showbackground": true,
            "ticks": "",
            "zerolinecolor": "white"
           }
          },
          "shapedefaults": {
           "line": {
            "color": "#2a3f5f"
           }
          },
          "ternary": {
           "aaxis": {
            "gridcolor": "white",
            "linecolor": "white",
            "ticks": ""
           },
           "baxis": {
            "gridcolor": "white",
            "linecolor": "white",
            "ticks": ""
           },
           "bgcolor": "#E5ECF6",
           "caxis": {
            "gridcolor": "white",
            "linecolor": "white",
            "ticks": ""
           }
          },
          "title": {
           "x": 0.05
          },
          "xaxis": {
           "automargin": true,
           "gridcolor": "white",
           "linecolor": "white",
           "ticks": "",
           "title": {
            "standoff": 15
           },
           "zerolinecolor": "white",
           "zerolinewidth": 2
          },
          "yaxis": {
           "automargin": true,
           "gridcolor": "white",
           "linecolor": "white",
           "ticks": "",
           "title": {
            "standoff": 15
           },
           "zerolinecolor": "white",
           "zerolinewidth": 2
          }
         }
        }
       }
      },
      "image/png": "[encoded data removed]"
     },
     "metadata": {},
     "output_type": "display_data"
    }
   ],
   "source": [
    "# 13. Create a 3D scatter plot using Plotly.\n",
    "import plotly.express as px\n",
    "df = pd.DataFrame({'x':[1,10,3,4,10], 'y':[1,8,5,3,4], 'z':[6,10,3,5,6]})\n",
    "fig = px.scatter_3d(df, x='x', y='y', z='z')\n",
    "fig.show()\n"
   ]
  }
 ],
 "metadata": {
  "kernelspec": {
   "display_name": "Python 3 (ipykernel)",
   "language": "python",
   "name": "python3"
  },
  "language_info": {
   "codemirror_mode": {
    "name": "ipython",
    "version": 3
   },
   "file_extension": ".py",
   "mimetype": "text/x-python",
   "name": "python",
   "nbconvert_exporter": "python",
   "pygments_lexer": "ipython3",
   "version": "3.13.2"
  }
 },
 "nbformat": 4,
 "nbformat_minor": 5
}
