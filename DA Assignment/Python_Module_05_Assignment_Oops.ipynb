{
 "cells": [
  {
   "cell_type": "markdown",
   "id": "26d1dea1-f7f1-4cd5-b4a7-6e5957705c5d",
   "metadata": {
    "jp-MarkdownHeadingCollapsed": true
   },
   "source": [
    "### Q1. What is Object-Oriented Programming (OOP)?\n",
    "\n",
    "Object-Oriented Programming (OOP) is a paradigm that organizes code around objects, which contain data and methods. It promotes modularity, reusability, and maintainability of code.\n",
    "\n",
    "\n",
    "### Q2. What is a class in OOP?\n",
    "\n",
    "A class is a blueprint for creating objects. It encapsulates attributes and methods that describe the behavior and state of its instances.\n",
    "\n",
    "\n",
    "### Q3. What is an object in OOP?\n",
    "\n",
    "An object is an instance of a class. Objects hold the actual values of attributes and have access to the class methods.\n",
    "\n",
    "\n",
    "### Q4. What is the difference between abstraction and encapsulation?\n",
    "\n",
    "Abstraction hides complex implementation while exposing only the necessary features. Encapsulation bundles data and methods, restricting access and protecting object integrity.\n",
    "\n",
    "\n",
    "### Q5. What are dunder methods in Python?\n",
    "\n",
    "Dunder (double underscore) methods like __init__, __str__, and __call__ allow customization of class behavior and integration with Python's syntax.\n",
    "\n",
    "\n",
    "### Q6. Explain the concept of inheritance in OOP.\n",
    "\n",
    "Inheritance allows a class (child/subclass) to acquire properties and methods from another class (parent/superclass), promoting code reuse and hierarchy.\n",
    "\n",
    "\n",
    "### Q7. What is polymorphism in OOP?\n",
    "\n",
    "Polymorphism allows different objects to respond to the same method or function in different ways. Python supports it through method overriding and overloading.\n",
    "\n",
    "\n",
    "### Q8. How is encapsulation achieved in Python?\n",
    "\n",
    "Encapsulation is achieved using naming conventions: a single underscore _var for protected, and double underscores __var for private variables .\n",
    "\n",
    "\n",
    "\n",
    "### Q9. What is a constructor in Python?\n",
    "\n",
    "The constructor in Python is the __init__ method, which initializes the object’s attributes when a new instance is created.\n",
    "\n",
    "\n",
    "### Q10. What are class and static methods in Python?\n",
    "\n",
    "- Class methods use @classmethod and take cls as their first parameter, operating on class-level data.\n",
    "- Static methods use @staticmethod and do not take self or cls, acting like regular functions within the class’s namespace.\n",
    "\n",
    "\n",
    "### Q11. What is method overloading in Python?\n",
    "Python does not support true method overloading. Instead, it uses default arguments or *args and **kwargs to mimic method overloading.\n",
    "\n",
    "\n",
    "### Q12. What is method overriding in OOP?\n",
    "\n",
    "Method overriding allows a subclass to provide a specific implementation of a method already defined in its superclass.\n",
    "\n",
    "\n",
    "### Q13. What is a property decorator in Python?\n",
    "\n",
    "@property allows you to define methods that can be accessed like attributes and provide controlled access to instance data.\n",
    "\n",
    "\n",
    "### Q14. Why is polymorphism important in OOP?\n",
    "\n",
    "Polymorphism enables code flexibility and reuse by allowing a single interface to support different implementations.\n",
    "\n",
    "\n",
    "### Q15. What is an abstract class in Python?\n",
    "\n",
    "An abstract class is a class that cannot be instantiated on its own and requires subclasses to follow a defined structure by implementing its abstract methods.\n",
    "\n",
    "\n",
    "### Q16. What are the advantages of OOP?\n",
    "\n",
    "Advantages include modularity, code reuse, easier maintenance, scalability, and improved organization of software projects.\n",
    "\n",
    "\n",
    "### Q17. What is the difference between a class variable and an instance variable?\n",
    "\n",
    "Class variables are shared among all instances of a class, while instance variables are unique to each object.\n",
    "\n",
    "### Q.18 What is multiple inheritance in Python?\n",
    "\n",
    "Multiple inheritance allows a class to inherit features from more than one parent class, combining their behavior and properties.\n",
    "\n",
    "\n",
    "### Q19. Explain the purpose of __str__ and __repr__ methods in Python.\n",
    "\n",
    "__str__ gives a readable string representation of an object for users, while __repr__ provides an unambiguous string useful for debugging and developers.\n",
    "\n",
    "\n",
    "\n",
    "### Q20. What is the significance of the super() function in Python?\n",
    "\n",
    "super() allows access to methods from the parent class, helping with inheritance and enabling method extension in children.\n",
    "\n",
    "### Q.21 What is the significance of the del method in Python?\n",
    "\n",
    "del is a destructor method called when an object is about to be destroyed, useful for releasing resources or cleanup tasks.\n",
    "\n",
    "\n",
    "### Q22. What is the difference between @staticmethod and @classmethod in Python?\n",
    "\n",
    "@staticmethod defines methods not bound to class or instance, while @classmethod binds to the class and can modify class state.\n",
    "\n",
    "\n",
    "### Q23. How does polymorphism work in Python with inheritance?\n",
    "\n",
    "Subclasses can override parent methods, and the chosen method depends on the object type at runtime, enabling dynamic polymorphism.\n",
    "\n",
    "\n",
    "### Q24. What is method chaining in Python OOP?\n",
    "\n",
    "Method chaining refers to sequentially calling methods on an object within a single statement, typically returning self to allow further calls.\n",
    "\n",
    "\n",
    "### Q25. What is the purpose of the __call__ method in Python?\n",
    "\n",
    "__call__ allows an object to be called as a function, customizing behavior when the object is “called” directly.\n"
   ]
  },
  {
   "cell_type": "markdown",
   "id": "61b6f5e9-584a-4f6a-b513-b4da46253cf2",
   "metadata": {},
   "source": [
    "## Practical Questions"
   ]
  },
  {
   "cell_type": "code",
   "execution_count": 20,
   "id": "c6636b4c-f5cd-4ce5-9779-13de2137b952",
   "metadata": {},
   "outputs": [
    {
     "name": "stdout",
     "output_type": "stream",
     "text": [
      "animal sound.\n",
      "Bark!\n"
     ]
    }
   ],
   "source": [
    "# 1. Create a parent class Animal with a method speak() that prints a generic message. Create a child class Dog that overrides the speak() method to print \"Bark!\".\n",
    "class Animal:\n",
    "    def speak(self):\n",
    "        print(\"animal sound.\")\n",
    "\n",
    "class Dog(Animal):\n",
    "    def speak(self):\n",
    "        print(\"Bark!\")\n",
    "\n",
    "a = Animal()\n",
    "a.speak()\n",
    "d = Dog()\n",
    "d.speak()\n"
   ]
  },
  {
   "cell_type": "code",
   "execution_count": 2,
   "id": "f6fee8cf-cf33-4c5b-8336-1a128b5a2a8c",
   "metadata": {},
   "outputs": [
    {
     "name": "stdout",
     "output_type": "stream",
     "text": [
      "28.26\n",
      "20\n"
     ]
    }
   ],
   "source": [
    "# 2. Write a program to create an abstract class Shape with a method area(). Derive classes Circle and Rectangle from it and implement the area() method in both.\n",
    "from abc import ABC, abstractmethod\n",
    "\n",
    "class Shape(ABC):\n",
    "    @abstractmethod\n",
    "    def area(self):\n",
    "        pass\n",
    "\n",
    "class Circle(Shape):\n",
    "    def __init__(self, radius):\n",
    "        self.radius = radius\n",
    "    def area(self):\n",
    "        return 3.14 * self.radius ** 2\n",
    "\n",
    "class Rectangle(Shape):\n",
    "    def __init__(self, width, height):\n",
    "        self.width = width\n",
    "        self.height = height\n",
    "    def area(self):\n",
    "        return self.width * self.height\n",
    "\n",
    "c = Circle(3)\n",
    "r = Rectangle(4, 5)\n",
    "print(c.area())\n",
    "print(r.area())\n"
   ]
  },
  {
   "cell_type": "code",
   "execution_count": 3,
   "id": "b42efd05-c2eb-4e15-b63b-c90c5a9820de",
   "metadata": {},
   "outputs": [
    {
     "name": "stdout",
     "output_type": "stream",
     "text": [
      "4-wheeler Tesla 100 kWh\n"
     ]
    }
   ],
   "source": [
    "# 3. Implement a multi-level inheritance scenario where a class Vehicle has an attribute type. Derive a class Car and further derive a class ElectricCar that adds a battery attribute.\n",
    "class Vehicle:\n",
    "    def __init__(self, type):\n",
    "        self.type = type\n",
    "\n",
    "class Car(Vehicle):\n",
    "    def __init__(self, type, brand):\n",
    "        super().__init__(type)\n",
    "        self.brand = brand\n",
    "\n",
    "class ElectricCar(Car):\n",
    "    def __init__(self, type, brand, battery):\n",
    "        super().__init__(type, brand)\n",
    "        self.battery = battery\n",
    "\n",
    "e_car = ElectricCar(\"4-wheeler\", \"Tesla\", \"100 kWh\")\n",
    "print(e_car.type, e_car.brand, e_car.battery)\n"
   ]
  },
  {
   "cell_type": "code",
   "execution_count": 4,
   "id": "28480bcc-f0ae-43bb-b0d8-0a08bbb123cc",
   "metadata": {},
   "outputs": [
    {
     "name": "stdout",
     "output_type": "stream",
     "text": [
      "Bird can fly.\n",
      "Sparrow flies high.\n",
      "Penguin cannot fly.\n"
     ]
    }
   ],
   "source": [
    "# 4. Demonstrate polymorphism by creating a base class Bird with a method fly(). Create two derived classes Sparrow and Penguin that override the fly() method.\n",
    "class Bird:\n",
    "    def fly(self):\n",
    "        print(\"Bird can fly.\")\n",
    "\n",
    "class Sparrow(Bird):\n",
    "    def fly(self):\n",
    "        print(\"Sparrow flies high.\")\n",
    "\n",
    "class Penguin(Bird):\n",
    "    def fly(self):\n",
    "        print(\"Penguin cannot fly.\")\n",
    "\n",
    "for bird in [Bird(), Sparrow(), Penguin()]:\n",
    "    bird.fly()\n"
   ]
  },
  {
   "cell_type": "code",
   "execution_count": 25,
   "id": "32fa0ff4-f7fc-4777-8124-f8fc68eeb5b0",
   "metadata": {},
   "outputs": [
    {
     "name": "stdout",
     "output_type": "stream",
     "text": [
      "500\n"
     ]
    }
   ],
   "source": [
    "# 5. Write a program to demonstrate encapsulation by creating a class BankAccount with private attributes balance and methods to deposit, withdraw, and check balance.\n",
    "class BankAccount:\n",
    "    def __init__(self, balance=0):\n",
    "        self.__balance = balance\n",
    "\n",
    "    def deposit(self, amount):\n",
    "        self.__balance += amount\n",
    "\n",
    "    def withdraw(self, amount):\n",
    "        if amount <= self.__balance:\n",
    "            self.__balance -= amount\n",
    "        else:\n",
    "            print(\"Insufficient Money!\")\n",
    "\n",
    "    def check_balance(self):\n",
    "        return self.__balance\n",
    "\n",
    "acc = BankAccount()\n",
    "acc.deposit(1000)\n",
    "acc.withdraw(500)\n",
    "print(acc.check_balance())\n"
   ]
  },
  {
   "cell_type": "code",
   "execution_count": 28,
   "id": "ef06b59a-0fde-4213-99ce-8a4322a0f7eb",
   "metadata": {},
   "outputs": [
    {
     "name": "stdout",
     "output_type": "stream",
     "text": [
      "Instrument is playing\n",
      "Guitar is playing\n",
      "Piano is playing \n"
     ]
    }
   ],
   "source": [
    "# 6. Demonstrate runtime polymorphism using a method play() in a base class Instrument. Derive classes Guitar and Piano that implement their own version of play().\n",
    "class Instrument:\n",
    "    def play(self):\n",
    "        print(\"Instrument is playing\")\n",
    "\n",
    "class Guitar(Instrument):\n",
    "    def play(self):\n",
    "        print(\"Guitar is playing\")\n",
    "\n",
    "class Piano(Instrument):\n",
    "    def play(self):\n",
    "        print(\"Piano is playing \")\n",
    "\n",
    "for i in [Instrument(), Guitar(), Piano()]:\n",
    "    i.play()\n"
   ]
  },
  {
   "cell_type": "code",
   "execution_count": 7,
   "id": "b3a1774d-ec76-4e8a-aef0-12db4b0fcc84",
   "metadata": {},
   "outputs": [
    {
     "name": "stdout",
     "output_type": "stream",
     "text": [
      "8\n",
      "2\n"
     ]
    }
   ],
   "source": [
    "# 7. Create a class MathOperations with a class method add_numbers() to add two numbers and a static method subtract_numbers() to subtract two numbers.\n",
    "class MathOperations:\n",
    "    @classmethod\n",
    "    def add_numbers(cls, a, b):\n",
    "        return a + b\n",
    "\n",
    "    @staticmethod\n",
    "    def subtract_numbers(a, b):\n",
    "        return a - b\n",
    "\n",
    "print(MathOperations.add_numbers(5, 3))\n",
    "print(MathOperations.subtract_numbers(5, 3))\n"
   ]
  },
  {
   "cell_type": "code",
   "execution_count": 29,
   "id": "2e73e345-8564-4686-8a27-dba8401071a1",
   "metadata": {},
   "outputs": [
    {
     "name": "stdout",
     "output_type": "stream",
     "text": [
      "2\n"
     ]
    }
   ],
   "source": [
    "# 8. Implement a class Person with a class method to count the total number of persons created.\n",
    "class Person:\n",
    "    count = 0\n",
    "    def __init__(self, name):\n",
    "        self.name = name\n",
    "        Person.count += 1\n",
    "\n",
    "    @classmethod\n",
    "    def get_person_count(cls):\n",
    "        return cls.count\n",
    "\n",
    "p1 = Person(\"Sharan\")\n",
    "p2 = Person(\"Shiv\")\n",
    "print(Person.get_person_count())\n"
   ]
  },
  {
   "cell_type": "code",
   "execution_count": 9,
   "id": "36ff9892-cef0-447a-8988-d48ee2665606",
   "metadata": {},
   "outputs": [
    {
     "name": "stdout",
     "output_type": "stream",
     "text": [
      "3/4\n"
     ]
    }
   ],
   "source": [
    "# 9. Write a class Fraction with attributes numerator and denominator. Override the str method to display the fraction as \"numerator/denominator\".\n",
    "class Fraction:\n",
    "    def __init__(self, numerator, denominator):\n",
    "        self.numerator = numerator\n",
    "        self.denominator = denominator\n",
    "\n",
    "    def __str__(self):\n",
    "        return f\"{self.numerator}/{self.denominator}\"\n",
    "\n",
    "f = Fraction(3, 4)\n",
    "print(str(f))\n"
   ]
  },
  {
   "cell_type": "code",
   "execution_count": 32,
   "id": "0a0736f4-7ff8-4aab-85d6-fb460cbb6ecd",
   "metadata": {},
   "outputs": [
    {
     "name": "stdout",
     "output_type": "stream",
     "text": [
      "(4, 6)\n"
     ]
    }
   ],
   "source": [
    "# 10. Demonstrate operator overloading by creating a class Vector and overriding the add method to add two vectors.\n",
    "class Vector:\n",
    "    def __init__(self, x, y):\n",
    "        self.x = x\n",
    "        self.y = y\n",
    "\n",
    "    def __add__(self, other):\n",
    "        return Vector(self.x + other.x, self.y + other.y)\n",
    "\n",
    "    def __str__(self):\n",
    "        return f\"({self.x}, {self.y})\"\n",
    "\n",
    "v1 = Vector(1, 2)\n",
    "v2 = Vector(3, 4)\n",
    "print(v1 + v2)\n"
   ]
  },
  {
   "cell_type": "code",
   "execution_count": 33,
   "id": "b0aab4cf-0f11-4937-8ef6-df2344fb99ab",
   "metadata": {},
   "outputs": [
    {
     "name": "stdout",
     "output_type": "stream",
     "text": [
      "Hello, my name is Sharandeep Meharwal and I am 20 years old.\n"
     ]
    }
   ],
   "source": [
    "# 11. Create a class Person with attributes name and age. Add a method greet() that prints \"Hello, my name is {name} and I am {age} years old.\"\n",
    "class Person:\n",
    "    def __init__(self, name, age):\n",
    "        self.name = name\n",
    "        self.age = age\n",
    "\n",
    "    def greet(self):\n",
    "        print(f\"Hello, my name is {self.name} and I am {self.age} years old.\")\n",
    "\n",
    "p = Person(\"Sharandeep Meharwal\", 20)\n",
    "p.greet()\n"
   ]
  },
  {
   "cell_type": "code",
   "execution_count": 34,
   "id": "11af479c-a650-4411-8e34-a960e65109a1",
   "metadata": {},
   "outputs": [
    {
     "name": "stdout",
     "output_type": "stream",
     "text": [
      "85.0\n"
     ]
    }
   ],
   "source": [
    "# 12. Implement a class Student with attributes name and grades. Create a method average_grade() to compute the average of the grades.\n",
    "class Student:\n",
    "    def __init__(self, name, grades):\n",
    "        self.name = name\n",
    "        self.grades = grades\n",
    "\n",
    "    def average_grade(self):\n",
    "        return sum(self.grades) / len(self.grades)\n",
    "\n",
    "s = Student(\"Sharandeep\", [80, 90, 85])\n",
    "print(s.average_grade())\n"
   ]
  },
  {
   "cell_type": "code",
   "execution_count": 13,
   "id": "b4558b64-e92b-40da-9b3e-c17b15617e12",
   "metadata": {},
   "outputs": [
    {
     "name": "stdout",
     "output_type": "stream",
     "text": [
      "20\n"
     ]
    }
   ],
   "source": [
    "# 13. Create a class Rectangle with methods set_dimensions() to set the dimensions and area() to calculate the area.\n",
    "class Rectangle:\n",
    "    def __init__(self):\n",
    "        self.width = 0\n",
    "        self.height = 0\n",
    "\n",
    "    def set_dimensions(self, width, height):\n",
    "        self.width = width\n",
    "        self.height = height\n",
    "\n",
    "    def area(self):\n",
    "        return self.width * self.height\n",
    "\n",
    "r = Rectangle()\n",
    "r.set_dimensions(5, 4)\n",
    "print(r.area())\n"
   ]
  },
  {
   "cell_type": "code",
   "execution_count": 14,
   "id": "83b17be4-62a2-4801-9697-605744908583",
   "metadata": {},
   "outputs": [
    {
     "name": "stdout",
     "output_type": "stream",
     "text": [
      "800\n",
      "1300\n"
     ]
    }
   ],
   "source": [
    "# 14. Create a class Employee with a method calculate_salary() that computes the salary based on hours worked and hourly rate. Create a derived class Manager that adds a bonus to the salary.\n",
    "class Employee:\n",
    "    def __init__(self, hours_worked, hourly_rate):\n",
    "        self.hours_worked = hours_worked\n",
    "        self.hourly_rate = hourly_rate\n",
    "\n",
    "    def calculate_salary(self):\n",
    "        return self.hours_worked * self.hourly_rate\n",
    "\n",
    "class Manager(Employee):\n",
    "    def __init__(self, hours_worked, hourly_rate, bonus):\n",
    "        super().__init__(hours_worked, hourly_rate)\n",
    "        self.bonus = bonus\n",
    "\n",
    "    def calculate_salary(self):\n",
    "        return super().calculate_salary() + self.bonus\n",
    "\n",
    "e = Employee(40, 20)\n",
    "m = Manager(40, 20, 500)\n",
    "print(e.calculate_salary())\n",
    "print(m.calculate_salary())\n"
   ]
  },
  {
   "cell_type": "code",
   "execution_count": 15,
   "id": "c3d7f34c-737a-4f60-802c-606b1c6f3284",
   "metadata": {},
   "outputs": [
    {
     "name": "stdout",
     "output_type": "stream",
     "text": [
      "150000\n"
     ]
    }
   ],
   "source": [
    "# 15. Create a class Product with attributes name, price, and quantity. Implement a method total_price() that calculates the total price of the product.\n",
    "class Product:\n",
    "    def __init__(self, name, price, quantity):\n",
    "        self.name = name\n",
    "        self.price = price\n",
    "        self.quantity = quantity\n",
    "\n",
    "    def total_price(self):\n",
    "        return self.price * self.quantity\n",
    "\n",
    "prod = Product(\"Laptop\", 50000, 3)\n",
    "print(prod.total_price())\n"
   ]
  },
  {
   "cell_type": "code",
   "execution_count": 16,
   "id": "0c3f973c-0382-4b04-8a71-d16e9293d6ec",
   "metadata": {},
   "outputs": [
    {
     "name": "stdout",
     "output_type": "stream",
     "text": [
      "Moo\n",
      "Baa\n"
     ]
    }
   ],
   "source": [
    "# 16. Create a class Animal with an abstract method sound(). Create two derived classes Cow and Sheep that implement the sound() method.\n",
    "from abc import ABC, abstractmethod\n",
    "\n",
    "class Animal(ABC):\n",
    "    @abstractmethod\n",
    "    def sound(self):\n",
    "        pass\n",
    "\n",
    "class Cow(Animal):\n",
    "    def sound(self):\n",
    "        return \"Moo\"\n",
    "\n",
    "class Sheep(Animal):\n",
    "    def sound(self):\n",
    "        return \"Baa\"\n",
    "\n",
    "c = Cow()\n",
    "s = Sheep()\n",
    "print(c.sound())\n",
    "print(s.sound())\n"
   ]
  },
  {
   "cell_type": "code",
   "execution_count": 30,
   "id": "936fe175-903a-4f00-81b6-98db6b9b3cc4",
   "metadata": {},
   "outputs": [
    {
     "name": "stdout",
     "output_type": "stream",
     "text": [
      "Python Programming by Amit, published in 2022.\n"
     ]
    }
   ],
   "source": [
    "# 17. Create a class Book with attributes title, author, and year_published. Add a method get_book_info() that returns a formatted string with the book's details.\n",
    "class Book:\n",
    "    def __init__(self, title, author, year_published):\n",
    "        self.title = title\n",
    "        self.author = author\n",
    "        self.year_published = year_published\n",
    "\n",
    "    def get_book_info(self):\n",
    "        return f\"{self.title} by {self.author}, published in {self.year_published}.\"\n",
    "\n",
    "book = Book(\"Python Programming\", \"Amit\", 2022)\n",
    "print(book.get_book_info())\n"
   ]
  },
  {
   "cell_type": "code",
   "execution_count": 31,
   "id": "cf2aed3c-901c-4db7-b413-379c71ffd0d3",
   "metadata": {},
   "outputs": [
    {
     "name": "stdout",
     "output_type": "stream",
     "text": [
      "123 Delhi 100000\n",
      "234 Ghaziabad 500000 10\n"
     ]
    }
   ],
   "source": [
    "# 18. Create a class House with attributes address and price. Create a derived class Mansion that adds an attribute number_of_rooms.\n",
    "class House:\n",
    "    def __init__(self, address, price):\n",
    "        self.address = address\n",
    "        self.price = price\n",
    "\n",
    "class Mansion(House):\n",
    "    def __init__(self, address, price, number_of_rooms):\n",
    "        super().__init__(address, price)\n",
    "        self.number_of_rooms = number_of_rooms\n",
    "\n",
    "h = House(\"123 Delhi\", 100000)\n",
    "m = Mansion(\"234 Ghaziabad\", 500000, 10)\n",
    "print(h.address, h.price)\n",
    "print(m.address, m.price, m.number_of_rooms)\n"
   ]
  },
  {
   "cell_type": "code",
   "execution_count": null,
   "id": "7db0deee-f11c-4525-bd0d-1859ea22742a",
   "metadata": {},
   "outputs": [],
   "source": []
  }
 ],
 "metadata": {
  "kernelspec": {
   "display_name": "Python 3 (ipykernel)",
   "language": "python",
   "name": "python3"
  },
  "language_info": {
   "codemirror_mode": {
    "name": "ipython",
    "version": 3
   },
   "file_extension": ".py",
   "mimetype": "text/x-python",
   "name": "python",
   "nbconvert_exporter": "python",
   "pygments_lexer": "ipython3",
   "version": "3.13.2"
  }
 },
 "nbformat": 4,
 "nbformat_minor": 5
}
