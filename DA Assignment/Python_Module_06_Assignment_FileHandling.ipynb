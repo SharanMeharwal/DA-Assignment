{
 "cells": [
  {
   "cell_type": "markdown",
   "id": "2c6e5d06-42d1-4fdf-840b-178dbb568e80",
   "metadata": {},
   "source": [
    "## Python_Module_06_Assignment_FileHandling"
   ]
  },
  {
   "cell_type": "markdown",
   "id": "20ffc248-47bb-49de-977c-79c31f20c45a",
   "metadata": {},
   "source": [
    "### 1. What is the difference between interpreted and compiled languages?\n",
    "Interpreted languages execute code line-by-line at runtime, while compiled languages translate code to machine language before execution, offering faster performance.\n",
    "\n",
    "### 2. What is exception handling in Python?\n",
    "It is a process for responding to runtime errors using try, except, else, and finally blocks, preventing program crashes and enabling controlled responses.\n",
    "\n",
    "### 3. What is the purpose of the finally block in exception handling?\n",
    "The finally block ensures certain code runs regardless of whether an exception occurs, commonly used for resource cleanup.\n",
    "\n",
    "### 4. What is logging in Python?\n",
    "Logging records program events, errors, or debugging information to files or consoles for monitoring and troubleshooting.\n",
    "\n",
    "### 5. What is the significance of the del method in Python?\n",
    "The __del__ method acts as a destructor, called when an object is about to be destroyed, to handle cleanup tasks.\n",
    "\n",
    "### 6. What is the difference between import and from ... import in Python?\n",
    "import module brings in the full module, accessed as module.name, while from module import name imports only specific attributes directly for use.\n",
    "\n",
    "### 7. How can you handle multiple exceptions in Python?\n",
    "List multiple exceptions in a tuple within an except clause, or use several except blocks for different exception types.\n",
    "\n",
    "### 9. What is the difference between multithreading and multiprocessing?\n",
    "Multithreading shares a single process memory among threads, suitable for I/O tasks, while multiprocessing runs tasks in separate processes for CPU-bound tasks.\n",
    "\n",
    "### 10. What are the advantages of using logging in a program?\n",
    "Logging helps in tracking errors, analyzing program flow, and auditing run-time events, aiding debugging and support.\n",
    "\n",
    "### 11. What is memory management in Python?\n",
    "It refers to the way Python handles allocation and de-allocation of memory, primarily via automatic garbage collection.\n",
    "\n",
    "### 12. What are the basic steps involved in exception handling in Python?\n",
    "Use try to wrap risky code, handle exceptions in except, run optional code in else, and finalize with finally.\n",
    "\n",
    "### 13. Why is memory management important in Python?\n",
    "It ensures efficient resource usage and prevents memory leaks and crashes.\n",
    "\n",
    "### 14. What is the role of try and except in exception handling?\n",
    "try includes code that may raise errors, while except defines what to do when specific errors occur.\n",
    "\n",
    "### 15. How does Python's garbage collection system work?\n",
    "Python’s garbage collector reclaims unused memory automatically, mainly using reference counting and cyclic garbage detection.\n",
    "\n",
    "### 16. What is the purpose of the else block in exception handling?\n",
    "The else block runs code only if no exception occurs in the try section, helping separate error and normal logic.\n",
    "\n",
    "### 17. What are the common logging levels in Python?\n",
    "The standard logging levels are: DEBUG, INFO, WARNING, ERROR, and CRITICAL.\n",
    "\n",
    "### 18. What is the difference between os.fork() and multiprocessing in Python?\n",
    "os.fork() is Unix-specific for process creation; the multiprocessing module works cross-platform and provides higher-level process management.\n",
    "\n",
    "### 19. What is the importance of closing a file in Python?\n",
    "Closing releases system resources, prevents data loss, and avoids file corruption.\n",
    "\n",
    "### 20. What is the difference between file.read() and file.readline() in Python?\n",
    "file.read() reads the whole file or a specific size, while file.readline() reads one line at a time.\n",
    "\n",
    "### 21. What is the logging module in Python used for?\n",
    "The logging module manages recording events, errors, and other information for debugging and monitoring.\n",
    "\n",
    "### 22. What is the os module in Python used for in file handling?\n",
    "The os module provides tools for interacting with the operating system, like manipulating files and directories.\n",
    "\n",
    "### 23. What are the challenges associated with memory management in Python?\n",
    "Main challenges are detecting and handling reference cycles, and ensuring timely cleanup of unused resources.\n",
    "\n",
    "### 24. How do you raise an exception manually in Python?\n",
    "Use the raise keyword followed by an exception type, e.g., raise ValueError(\"Error message\").\n",
    "\n",
    "### 25. Why is it important to use multithreading in certain applications?\n",
    "Multithreading is useful for I/O-bound applications to run multiple tasks concurrently and improve responsiveness"
   ]
  },
  {
   "cell_type": "markdown",
   "id": "d2fce42d-0dea-45bf-a428-e9661905c7bd",
   "metadata": {},
   "source": [
    "## Practical Questions"
   ]
  },
  {
   "cell_type": "code",
   "execution_count": 1,
   "id": "e2bf5bef-0d3c-4d5d-8419-c441c27adc23",
   "metadata": {},
   "outputs": [],
   "source": [
    "# 1. How can you open a file for writing in Python and write a string to it?\n",
    "with open('sample.txt', 'w') as file:\n",
    "    file.write(\"Hello, I'm Sharandeep Meharwal\")"
   ]
  },
  {
   "cell_type": "code",
   "execution_count": 2,
   "id": "0ab9ac9d-2a49-4766-b4df-81633602379d",
   "metadata": {},
   "outputs": [
    {
     "name": "stdout",
     "output_type": "stream",
     "text": [
      "This is the first line in the txt file.\n",
      "This is the second line in the txt file.\n",
      "This is the third line in the txt file.\n",
      "This is the fourth line in the txt file.\n",
      "This is the fifth line in the txt file.\n"
     ]
    }
   ],
   "source": [
    "# 2. Write a Python program to read the contents of a file and print each line.\n",
    "with open('text.txt', 'r') as file:\n",
    "    for line in file:\n",
    "        print(line.strip())\n"
   ]
  },
  {
   "cell_type": "code",
   "execution_count": 3,
   "id": "06e68c34-da8b-4a76-808c-19c2a8c37e0e",
   "metadata": {},
   "outputs": [
    {
     "name": "stdout",
     "output_type": "stream",
     "text": [
      "File does not exist. ERROR : [Errno 2] No such file or directory: 'nofile.txt'\n"
     ]
    }
   ],
   "source": [
    "# 3. How would you handle a case where the file doesn't exist while trying to open it for reading?\n",
    "try:\n",
    "    with open('nofile.txt', 'r') as file:\n",
    "        content = file.read()\n",
    "except FileNotFoundError as e:\n",
    "    print(\"File does not exist.\" ,\"ERROR :\" ,e)"
   ]
  },
  {
   "cell_type": "code",
   "execution_count": 4,
   "id": "1b452607-2944-4aa9-ae84-0c7f6480b21f",
   "metadata": {},
   "outputs": [],
   "source": [
    "with open('source.txt', 'w') as f:\n",
    "    f.write(\"this text is in source file \")"
   ]
  },
  {
   "cell_type": "code",
   "execution_count": 5,
   "id": "702b9d65-b209-4888-ab05-973670cc5dc7",
   "metadata": {},
   "outputs": [
    {
     "name": "stdout",
     "output_type": "stream",
     "text": [
      "this text is in source file \n"
     ]
    }
   ],
   "source": [
    "# 4. Write a Python script that reads from one file and writes its content to another file.\n",
    "with open('source.txt', 'r') as src, open('dest.txt', 'w') as dest:\n",
    "    for line in src:\n",
    "        dest.write(line)\n",
    "\n",
    "        \n",
    "# to print \n",
    "with open('dest.txt', 'r') as dest:\n",
    "    print(dest.readline())\n"
   ]
  },
  {
   "cell_type": "code",
   "execution_count": 6,
   "id": "46700779-20d5-4736-b1fa-bac421f62eb6",
   "metadata": {},
   "outputs": [
    {
     "name": "stdout",
     "output_type": "stream",
     "text": [
      "Division by zero error!  ERROR:  division by zero\n"
     ]
    }
   ],
   "source": [
    "# 5. How would you catch and handle division by zero error in Python?\n",
    "try:\n",
    "    result = 10 / 0\n",
    "except ZeroDivisionError as e:\n",
    "    print(\"Division by zero error!  ERROR: \", e )"
   ]
  },
  {
   "cell_type": "code",
   "execution_count": 7,
   "id": "28c57b6b-93c3-4330-afed-7f39e04020b8",
   "metadata": {},
   "outputs": [],
   "source": [
    "# 6. Write a Python program that logs an error message to a log file when a division by zero exception occurs.\n",
    "import logging\n",
    "\n",
    "logging.basicConfig(filename='errors.log', level=logging.ERROR)\n",
    "try:\n",
    "    result = 10 / 0\n",
    "except ZeroDivisionError:\n",
    "    logging.error(\"Division by zero exception occurred.\")"
   ]
  },
  {
   "cell_type": "code",
   "execution_count": 8,
   "id": "167de122-34e9-429b-b4f8-8642e294edf1",
   "metadata": {},
   "outputs": [],
   "source": [
    "# 7. How do you log information at different levels (INFO, ERROR, WARNING) in Python using the logging module?\n",
    "import logging\n",
    "\n",
    "logging.basicConfig(filename='errors.log', level=logging.DEBUG)\n",
    "logging.info(\"This is an info message.\")\n",
    "logging.warning(\"This is a warning message.\")\n",
    "logging.error(\"This is an error message.\")\n"
   ]
  },
  {
   "cell_type": "code",
   "execution_count": 9,
   "id": "60500a2c-0ffa-4df3-a2b4-751c8d38affc",
   "metadata": {},
   "outputs": [
    {
     "name": "stdout",
     "output_type": "stream",
     "text": [
      "Failed to open file , ERROR :  [Errno 2] No such file or directory: 'missing.txt'\n"
     ]
    }
   ],
   "source": [
    "# 8. Write a program to handle a file opening error using exception handling.\n",
    "try:\n",
    "    with open('missing.txt', 'r') as file:\n",
    "        content = file.read()\n",
    "except IOError as e:\n",
    "    print(\"Failed to open file , ERROR : \",e)"
   ]
  },
  {
   "cell_type": "code",
   "execution_count": 10,
   "id": "34c0fc0a-07b8-4abc-b5a6-088b1466cca6",
   "metadata": {},
   "outputs": [
    {
     "name": "stdout",
     "output_type": "stream",
     "text": [
      "['This is the first line in the txt file.', 'This is the second line in the txt file.', 'This is the third line in the txt file.', 'This is the fourth line in the txt file.', 'This is the fifth line in the txt file.']\n"
     ]
    }
   ],
   "source": [
    "# 9. How can you read a file line by line and store its content in a list in Python?\n",
    "with open('text.txt', 'r') as file:\n",
    "    lines = [line.strip() for line in file]\n",
    "\n",
    "\n",
    "print(lines)"
   ]
  },
  {
   "cell_type": "code",
   "execution_count": 11,
   "id": "af0efa20-2147-44d7-bb62-462c455c99d6",
   "metadata": {},
   "outputs": [
    {
     "name": "stdout",
     "output_type": "stream",
     "text": [
      "This is the first line in the txt file.\n",
      "This is the second line in the txt file.\n",
      "This is the third line in the txt file.\n",
      "This is the fourth line in the txt file.\n",
      "This is the fifth line in the txt file.\n",
      "This is the sixth line in the txt file\n"
     ]
    }
   ],
   "source": [
    "# 10. How can you append data to an existing file in Python?\n",
    "with open('text.txt', 'a') as file:\n",
    "    file.write('\\nThis is the sixth line in the txt file')\n",
    "\n",
    "#to check\n",
    "with open('text.txt', 'r') as file:\n",
    "    for line in file:\n",
    "        print (line.strip())\n"
   ]
  },
  {
   "cell_type": "code",
   "execution_count": 12,
   "id": "24ce1a2a-581f-4112-869d-d261f616a7cd",
   "metadata": {},
   "outputs": [
    {
     "name": "stdout",
     "output_type": "stream",
     "text": [
      "Key not found , ERROR : 'b'\n"
     ]
    }
   ],
   "source": [
    "# 11. Write a Python program that uses a try-except block to handle an error when attempting to access a dictionary key that doesn't exist.\n",
    "data = {'a': 1}\n",
    "try:\n",
    "    print(data['b'])\n",
    "except KeyError as e:\n",
    "    print(\"Key not found , ERROR :\" , e )"
   ]
  },
  {
   "cell_type": "code",
   "execution_count": 13,
   "id": "38ea593f-9565-4ad1-bff7-30489f67eebc",
   "metadata": {},
   "outputs": [
    {
     "name": "stdout",
     "output_type": "stream",
     "text": [
      "Value error occurred.\n"
     ]
    }
   ],
   "source": [
    "# 12. Write a program that demonstrates using multiple except blocks to handle different types of exceptions.\n",
    "try:\n",
    "    value = int('abc')\n",
    "except ValueError:\n",
    "    print(\"Value error occurred.\")\n",
    "except TypeError:\n",
    "    print(\"Type error occurred.\")"
   ]
  },
  {
   "cell_type": "code",
   "execution_count": 14,
   "id": "682fa52f-4e0d-4cbb-bc50-0d547d9f8e4e",
   "metadata": {},
   "outputs": [
    {
     "name": "stdout",
     "output_type": "stream",
     "text": [
      "File does not exist.\n"
     ]
    }
   ],
   "source": [
    "# 13. How would you check if a file exists before attempting to read it in Python?\n",
    "\n",
    "# when file not exist\n",
    "import os\n",
    "\n",
    "if os.path.exists('xyz.txt'):\n",
    "    with open('xyz.txt', 'r') as file:\n",
    "        print(file.read())\n",
    "else:\n",
    "    print(\"File does not exist.\")"
   ]
  },
  {
   "cell_type": "code",
   "execution_count": 15,
   "id": "48e2776c-7021-4554-b9a0-a771ea96e70b",
   "metadata": {},
   "outputs": [
    {
     "name": "stdout",
     "output_type": "stream",
     "text": [
      "This is the first line in the txt file.\n",
      "This is the second line in the txt file.\n",
      "This is the third line in the txt file.\n",
      "This is the fourth line in the txt file.\n",
      "This is the fifth line in the txt file.\n",
      "This is the sixth line in the txt file\n"
     ]
    }
   ],
   "source": [
    "# 13. How would you check if a file exists before attempting to read it in Python?\n",
    "\n",
    "# when file Exist\n",
    "import os\n",
    "\n",
    "if os.path.exists('text.txt'):\n",
    "    with open('text.txt', 'r') as file:\n",
    "        print(file.read())\n",
    "else:\n",
    "    print(\"File does not exist.\")"
   ]
  },
  {
   "cell_type": "code",
   "execution_count": 16,
   "id": "f8a0fcad-2a80-41be-b40d-30feadb5e5ab",
   "metadata": {},
   "outputs": [],
   "source": [
    "# 14. Write a program that uses the logging module to log both informational and error messages.\n",
    "import logging\n",
    "\n",
    "logging.basicConfig(filename='errors.log', level=logging.INFO)\n",
    "logging.info(\"This is informational.\")\n",
    "logging.error(\"This is an error.\")"
   ]
  },
  {
   "cell_type": "code",
   "execution_count": 17,
   "id": "e01ff99e-d5c7-4d5b-8234-978cbd676e8b",
   "metadata": {},
   "outputs": [
    {
     "name": "stdout",
     "output_type": "stream",
     "text": [
      "Hello, I'm Sharandeep Meharwal\n"
     ]
    }
   ],
   "source": [
    "# 15. Write a Python program that prints the content of a file and handles the case when the file is empty.\n",
    "try:\n",
    "    with open('sample.txt', 'r') as file:\n",
    "        content = file.read()\n",
    "        if content:\n",
    "            print(content)\n",
    "        else:\n",
    "            print(\"File is empty.\")\n",
    "except FileNotFoundError:\n",
    "    print(\"File not found.\")"
   ]
  },
  {
   "cell_type": "code",
   "execution_count": 18,
   "id": "2dc584b5-7982-4b05-8b70-c0b15e9550f6",
   "metadata": {},
   "outputs": [
    {
     "name": "stdout",
     "output_type": "stream",
     "text": [
      "ERROR: Could not find file C:\\Users\\shara\\AppData\\Local\\Temp\\ipykernel_9596\\4184193030.py\n"
     ]
    },
    {
     "data": {
      "text/plain": [
       "49995000"
      ]
     },
     "execution_count": 18,
     "metadata": {},
     "output_type": "execute_result"
    }
   ],
   "source": [
    "# 16. Demonstrate how to use memory profiling to check the memory usage of a small program.\n",
    "\n",
    "# this topic (memory profiling ) was not taught in the module\n",
    "# take help ,learn and understant from chatgpt\n",
    "from memory_profiler import profile\n",
    "\n",
    "@profile\n",
    "def my_func():\n",
    "    a = [i for i in range(10000)]\n",
    "    return sum(a)\n",
    "\n",
    "my_func()"
   ]
  },
  {
   "cell_type": "code",
   "execution_count": 19,
   "id": "9d0c8681-b7c3-445c-acd3-e5c50428f613",
   "metadata": {},
   "outputs": [
    {
     "name": "stdout",
     "output_type": "stream",
     "text": [
      "1\n",
      "\n",
      "2\n",
      "\n",
      "3\n",
      "\n",
      "4\n",
      "\n",
      "5\n",
      "\n"
     ]
    }
   ],
   "source": [
    "\n",
    "# 17. Write a Python program to create and write a list of numbers to a file, one number per line.\n",
    "numbers = [1, 2, 3, 4, 5]\n",
    "with open('numbers.txt', 'w') as file:\n",
    "    for num in numbers:\n",
    "        file.write(f\"{num}\\n\")\n",
    "\n",
    "# to check\n",
    "with open('numbers.txt', 'r') as file:\n",
    "    for line in file:\n",
    "        print(line)"
   ]
  },
  {
   "cell_type": "code",
   "execution_count": 20,
   "id": "d8c7fcf9-5954-4027-bc4c-df69c68f5368",
   "metadata": {},
   "outputs": [],
   "source": [
    "# 18. How would you implement a basic logging setup that logs to a file with rotation after 1MB?\n",
    "\n",
    "# this topic (file with rotation after 1MB) was not taught in the module\n",
    "# take help ,learn and understant from chatgpt \n",
    "import logging\n",
    "from logging.handlers import RotatingFileHandler\n",
    "\n",
    "handler = RotatingFileHandler('app.log', maxBytes=1048576, backupCount=2)\n",
    "logging.basicConfig(handlers=[handler], level=logging.INFO)\n",
    "logging.info(\"This is a log message with rotation.\")"
   ]
  },
  {
   "cell_type": "code",
   "execution_count": 21,
   "id": "9678730e-fdf5-40ac-85dc-88e477e9f2b9",
   "metadata": {},
   "outputs": [
    {
     "name": "stdout",
     "output_type": "stream",
     "text": [
      "IndexError caught. ERROR :  list index out of range\n"
     ]
    }
   ],
   "source": [
    "# 19. Write a program that handles both IndexError and KeyError using a try-except block.\n",
    "try:\n",
    "    my_list = [1, 2, 3]\n",
    "    my_dict = {'a': 1}\n",
    "    print(my_list[5])\n",
    "    print(my_dict['b'])\n",
    "except IndexError as e:\n",
    "    print(\"IndexError caught. ERROR : \", e)\n",
    "except KeyError as e:\n",
    "    print(\"KeyError caught. Error : \", e)"
   ]
  },
  {
   "cell_type": "code",
   "execution_count": 22,
   "id": "24a031e7-d6d3-422e-bb40-990d86500048",
   "metadata": {},
   "outputs": [
    {
     "name": "stdout",
     "output_type": "stream",
     "text": [
      "This is the first line in the txt file.\n",
      "This is the second line in the txt file.\n",
      "This is the third line in the txt file.\n",
      "This is the fourth line in the txt file.\n",
      "This is the fifth line in the txt file.\n",
      "This is the sixth line in the txt file\n"
     ]
    }
   ],
   "source": [
    "# 20. How would you open a file and read its contents using a context manager in Python?\n",
    "with open('text.txt', 'r') as file:\n",
    "    content = file.read()\n",
    "    print(content)"
   ]
  },
  {
   "cell_type": "code",
   "execution_count": 23,
   "id": "0ad4158b-4756-4fc6-a245-15b325ebebb4",
   "metadata": {},
   "outputs": [
    {
     "name": "stdout",
     "output_type": "stream",
     "text": [
      "Occurrences of 'the': 12\n"
     ]
    }
   ],
   "source": [
    "# 21. Write a Python program that reads a file and prints the number of occurrences of a specific word.\n",
    "word = \"the\"\n",
    "count = 0\n",
    "with open('text.txt', 'r') as file:\n",
    "    for line in file:\n",
    "        count += line.count(word)\n",
    "print(f\"Occurrences of '{word}':\", count)"
   ]
  },
  {
   "cell_type": "code",
   "execution_count": 24,
   "id": "51d228ac-c8f9-4368-8aaf-0495cba081f4",
   "metadata": {},
   "outputs": [
    {
     "name": "stdout",
     "output_type": "stream",
     "text": [
      "Hello, I'm Sharandeep Meharwal\n"
     ]
    }
   ],
   "source": [
    "# 22. How can you check if a file is empty before attempting to read its contents?\n",
    "\n",
    "import os\n",
    "\n",
    "if os.stat('sample.txt').st_size == 0:\n",
    "    print(\"File is empty.\")\n",
    "else:\n",
    "    with open('sample.txt', 'r') as file:\n",
    "        print(file.read())"
   ]
  },
  {
   "cell_type": "code",
   "execution_count": 25,
   "id": "9c1fce67-dd13-4f53-9dbc-f6d253729d86",
   "metadata": {},
   "outputs": [],
   "source": [
    "# 23. Write a Python program that writes to a log file when an error occurs during file handling.\n",
    "import logging\n",
    "\n",
    "logging.basicConfig(filename='file_errors.log', level=logging.ERROR)\n",
    "try:\n",
    "    with open('nofile.txt', 'r') as file:\n",
    "        content = file.read()\n",
    "except Exception as e:\n",
    "    logging.error(f\"File handling error: {e}\")"
   ]
  }
 ],
 "metadata": {
  "kernelspec": {
   "display_name": "Python 3 (ipykernel)",
   "language": "python",
   "name": "python3"
  },
  "language_info": {
   "codemirror_mode": {
    "name": "ipython",
    "version": 3
   },
   "file_extension": ".py",
   "mimetype": "text/x-python",
   "name": "python",
   "nbconvert_exporter": "python",
   "pygments_lexer": "ipython3",
   "version": "3.13.2"
  }
 },
 "nbformat": 4,
 "nbformat_minor": 5
}
